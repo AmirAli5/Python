{
 "cells": [
  {
   "cell_type": "markdown",
   "metadata": {},
   "source": [
    "# Chapter 10: Object Oriented Programming"
   ]
  },
  {
   "cell_type": "markdown",
   "metadata": {},
   "source": [
    "Solving a problem by creating objects is one of the most popular approaches in programming. This is called object-oriented programming. <br>This concept focuses on using reusable code."
   ]
  },
  {
   "cell_type": "markdown",
   "metadata": {},
   "source": [
    "## Class\n",
    "A class is a blueprint for creating objects.\n",
    "\n",
    "\n",
    "![](https://api.codewithharry.com/media/videoSeriesFiles/courseFiles/python-tutorial-easy-for-beginners/base64_oztvusC.jpeg)"
   ]
  },
  {
   "cell_type": "markdown",
   "metadata": {},
   "source": [
    "The syntax of a class looks like this:"
   ]
  },
  {
   "cell_type": "code",
   "execution_count": 9,
   "metadata": {},
   "outputs": [],
   "source": [
    "class Employee:                        # Class name written in Pascal case\n",
    "    # method and variable"
   ]
  },
  {
   "cell_type": "markdown",
   "metadata": {},
   "source": [
    "## Object"
   ]
  },
  {
   "cell_type": "markdown",
   "metadata": {},
   "source": [
    "An object is an instantiation of a class. When class is defined, a template(info) is defined. Memory is allocated only after object instantiation."
   ]
  },
  {
   "cell_type": "code",
   "execution_count": 18,
   "metadata": {},
   "outputs": [
    {
     "name": "stdout",
     "output_type": "stream",
     "text": [
      "Name is Amir\n",
      "AirLine is Turkish\n"
     ]
    }
   ],
   "source": [
    "# Class\n",
    "\n",
    "class AirLineForm:                                              \n",
    "    def data(self):\n",
    "        print(f\"Name is {self.name}\")\n",
    "        print(f\"AirLine is {self.airline}\")\n",
    "\n",
    "# Object\n",
    "amirapplication = AirLineForm()            # instantiation of a class is called object\n",
    "amirapplication.name = \"Amir\"\n",
    "amirapplication.airline = \"Turkish\"\n",
    "amirapplication.data()"
   ]
  },
  {
   "cell_type": "code",
   "execution_count": 20,
   "metadata": {},
   "outputs": [
    {
     "data": {
      "text/plain": [
       "26"
      ]
     },
     "execution_count": 20,
     "metadata": {},
     "output_type": "execute_result"
    }
   ],
   "source": [
    "class Number:\n",
    "    def add(self):\n",
    "        return self.a + self.b\n",
    "    \n",
    "num = Number()\n",
    "num.a = 12\n",
    "num.b = 14\n",
    "num.add()"
   ]
  },
  {
   "cell_type": "markdown",
   "metadata": {},
   "source": [
    "Objects of a given class can invoke the methods available to it without revealing the implementation details to the user.     #Abstraction & Encapsulation!"
   ]
  },
  {
   "cell_type": "code",
   "execution_count": null,
   "metadata": {},
   "outputs": [],
   "source": [
    "class Remote:\n",
    "    pass\n",
    "\n",
    "class Player:                                  # Encapsulation same entities like (plyer and inside make capleul of left, right\n",
    "        pass\n",
    "    def move_right(self):\n",
    "        pass\n",
    "    \n",
    "remote1 = Remote()\n",
    "player1 = Player()\n",
    "\n",
    "if (remote1.isLeftPressed()):          # here is abstraction\n",
    "    player1.move_left()"
   ]
  },
  {
   "cell_type": "markdown",
   "metadata": {},
   "source": [
    "## Modelling a problem in OOPs"
   ]
  },
  {
   "cell_type": "markdown",
   "metadata": {},
   "source": [
    "We identify the following in our problem\n",
    "\n",
    "Noun -> Class -> Employee\n",
    "\n",
    "Adjective -> Attributes -> name,age,salary\n",
    "\n",
    "Verbs -> Methods -> getSalary(), increment()"
   ]
  },
  {
   "cell_type": "markdown",
   "metadata": {},
   "source": [
    "### Class Attributes"
   ]
  },
  {
   "cell_type": "markdown",
   "metadata": {},
   "source": [
    "An attribute that belongs to the class rather than a particular object.\n",
    "\n",
    "It's directly associate with class"
   ]
  },
  {
   "cell_type": "code",
   "execution_count": 2,
   "metadata": {},
   "outputs": [
    {
     "data": {
      "text/plain": [
       "'Google'"
      ]
     },
     "execution_count": 2,
     "metadata": {},
     "output_type": "execute_result"
    }
   ],
   "source": [
    "class Employee:\n",
    "    company = \"Google\"          # Specific to each class\n",
    "    \n",
    "amir = Employee()               # Object instantiation\n",
    "amir.company     \n"
   ]
  },
  {
   "cell_type": "code",
   "execution_count": 5,
   "metadata": {},
   "outputs": [
    {
     "data": {
      "text/plain": [
       "'Microsoft'"
      ]
     },
     "execution_count": 5,
     "metadata": {},
     "output_type": "execute_result"
    }
   ],
   "source": [
    "Employee.company = \"Microsoft\"      # changing class attribute \n",
    "amir.company"
   ]
  },
  {
   "cell_type": "markdown",
   "metadata": {},
   "source": [
    "### Instance Attributes"
   ]
  },
  {
   "cell_type": "markdown",
   "metadata": {},
   "source": [
    "An attribute that belongs to the Instance (object)"
   ]
  },
  {
   "cell_type": "code",
   "execution_count": 2,
   "metadata": {},
   "outputs": [
    {
     "data": {
      "text/plain": [
       "'300k'"
      ]
     },
     "execution_count": 2,
     "metadata": {},
     "output_type": "execute_result"
    }
   ],
   "source": [
    "class Employee:\n",
    "    company = \"Google\"\n",
    "    \n",
    "amir = Employee\n",
    "amir.salary = \"300k\"       # Adding instance attributes\n",
    "amir.salary"
   ]
  },
  {
   "cell_type": "markdown",
   "metadata": {},
   "source": [
    "<b>Note:</b> Instance attributes take preference over class attributes during assignment and retrieval."
   ]
  },
  {
   "cell_type": "code",
   "execution_count": 3,
   "metadata": {},
   "outputs": [
    {
     "data": {
      "text/plain": [
       "'300k'"
      ]
     },
     "execution_count": 3,
     "metadata": {},
     "output_type": "execute_result"
    }
   ],
   "source": [
    "class Employee:\n",
    "    company = \"Google\"\n",
    "    salary = \"200k\"\n",
    "    \n",
    "amir = Employee\n",
    "amir.salary = \"300k\"       # Adding instance attributes\n",
    "amir.salary"
   ]
  },
  {
   "cell_type": "code",
   "execution_count": 4,
   "metadata": {},
   "outputs": [
    {
     "data": {
      "text/plain": [
       "'200k'"
      ]
     },
     "execution_count": 4,
     "metadata": {},
     "output_type": "execute_result"
    }
   ],
   "source": [
    "class Employee:\n",
    "    company = \"Google\"\n",
    "    salary = \"200k\"\n",
    "    \n",
    "amir = Employee\n",
    "amir.salary"
   ]
  },
  {
   "cell_type": "markdown",
   "metadata": {},
   "source": [
    "amir.attribute1  :\n",
    "\n",
    "1. Is attribute1 present in object?           # first preference\n",
    "2. Is attribute1 present in class?            # second preference (if no instance attribute)"
   ]
  },
  {
   "cell_type": "code",
   "execution_count": 18,
   "metadata": {},
   "outputs": [
    {
     "name": "stdout",
     "output_type": "stream",
     "text": [
      "300k\n",
      "200k\n"
     ]
    }
   ],
   "source": [
    "class Employee:\n",
    "    company = \"Google\"\n",
    "    salary1 = \"200k\"\n",
    "    \n",
    "amir = Employee\n",
    "ansar = Employee\n",
    "amir.salary = \"300k\"       # Adding instance attributes\n",
    "print(amir.salary)         # print instance attribute\n",
    "print(ansar.salary1)       # print class attribute "
   ]
  },
  {
   "cell_type": "markdown",
   "metadata": {},
   "source": [
    "### \"self\" parameter"
   ]
  },
  {
   "cell_type": "markdown",
   "metadata": {},
   "source": [
    "self refers to the instance of the class.\n",
    "\n",
    "It is automatically passed with a function call from an object."
   ]
  },
  {
   "cell_type": "code",
   "execution_count": 1,
   "metadata": {},
   "outputs": [
    {
     "name": "stdout",
     "output_type": "stream",
     "text": [
      "My company is Google and Salary is 30000\n"
     ]
    }
   ],
   "source": [
    "class Employee:\n",
    "    company = \"Google\"\n",
    "    \n",
    "    def getsalary(self):\n",
    "        print(f\"My company is {self.company} and Salary is {self.salary}\")\n",
    "        \n",
    "amir = Employee()\n",
    "amir.salary = 30000\n",
    "amir.getsalary()        # here amir is self  \n",
    "\n",
    "# The above line code is =  Employee.getsalary(amir)"
   ]
  },
  {
   "cell_type": "code",
   "execution_count": 4,
   "metadata": {},
   "outputs": [
    {
     "name": "stdout",
     "output_type": "stream",
     "text": [
      "My company is Google and Salary is 300000\n",
      "Thanks\n"
     ]
    }
   ],
   "source": [
    "# can be muliple parameters with self\n",
    "class Employee:\n",
    "    company = \"Google\"\n",
    "    \n",
    "    def getsalary(self, signature):\n",
    "        print(f\"My company is {self.company} and Salary is {self.salary}\\n{signature}\")\n",
    "        \n",
    "amir= Employee()\n",
    "amir.salary = 300000\n",
    "amir.getsalary(\"Thanks\")"
   ]
  },
  {
   "cell_type": "markdown",
   "metadata": {},
   "source": [
    "### Static method"
   ]
  },
  {
   "cell_type": "markdown",
   "metadata": {},
   "source": [
    "Sometimes we need a function that doesn’t use the self-parameter. We can define a static method like this:"
   ]
  },
  {
   "cell_type": "code",
   "execution_count": 6,
   "metadata": {},
   "outputs": [
    {
     "name": "stdout",
     "output_type": "stream",
     "text": [
      "Welcome to all of you\n"
     ]
    }
   ],
   "source": [
    "class Maxt:\n",
    "    \n",
    "    @staticmethod\n",
    "    \n",
    "    def greeting():\n",
    "        print(\"Welcome to all of you\")\n",
    "        \n",
    "w = Maxt()\n",
    "w.greeting()"
   ]
  },
  {
   "cell_type": "markdown",
   "metadata": {},
   "source": [
    "Can be multiple static method"
   ]
  },
  {
   "cell_type": "code",
   "execution_count": 9,
   "metadata": {},
   "outputs": [
    {
     "name": "stdout",
     "output_type": "stream",
     "text": [
      "Welcome to all of you\n",
      "1:18pm\n"
     ]
    }
   ],
   "source": [
    "class Maxt:\n",
    "    \n",
    "    @staticmethod\n",
    "    \n",
    "    def greeting():\n",
    "        print(\"Welcome to all of you\")\n",
    "        \n",
    "    @staticmethod\n",
    "    \n",
    "    def time():\n",
    "        print(\"1:18pm\")\n",
    "        \n",
    "w = Maxt()\n",
    "w.greeting()\n",
    "w.time()"
   ]
  },
  {
   "cell_type": "markdown",
   "metadata": {},
   "source": [
    "###  Constructor\n",
    "$__init__()$ is a special method which runs as soon as the object is created. <br>\n",
    "$__init__()$ method is also known as constructor. <br>\n",
    "It takes self-argument and can also take further arguments."
   ]
  },
  {
   "cell_type": "code",
   "execution_count": 10,
   "metadata": {},
   "outputs": [
    {
     "name": "stdout",
     "output_type": "stream",
     "text": [
      "Welcome Amir Ali\n"
     ]
    }
   ],
   "source": [
    "class Employee:\n",
    "    \n",
    "    def __init__(self):    # __init__()  method is also known as constructor.\n",
    "        print(\"Welcome Amir Ali\")\n",
    "        \n",
    "amir = Employee()       # is a special method which runs as soon as the object is created."
   ]
  },
  {
   "cell_type": "code",
   "execution_count": 15,
   "metadata": {},
   "outputs": [
    {
     "name": "stdout",
     "output_type": "stream",
     "text": [
      "Welcome Amir Ali\n",
      "You Salary is 20000\n",
      "You Subunit is Machine Learning\n"
     ]
    }
   ],
   "source": [
    "class Employee:\n",
    "    def __init__(self, salary, subunit):     #  takes self-argument and can also take further arguments.\n",
    "        print(\"Welcome Amir Ali\")\n",
    "        self.salary = salary\n",
    "        self.subunit = subunit\n",
    "    \n",
    "    def getdetails(self):\n",
    "        print(f\"You Salary is {self.salary}\")\n",
    "        print(f\"You Subunit is {self.subunit}\")\n",
    "        \n",
    "amir = Employee(20000, \"Machine Learning\")\n",
    "amir.getdetails()"
   ]
  }
 ],
 "metadata": {
  "kernelspec": {
   "display_name": "Python 3",
   "language": "python",
   "name": "python3"
  },
  "language_info": {
   "codemirror_mode": {
    "name": "ipython",
    "version": 3
   },
   "file_extension": ".py",
   "mimetype": "text/x-python",
   "name": "python",
   "nbconvert_exporter": "python",
   "pygments_lexer": "ipython3",
   "version": "3.6.1"
  }
 },
 "nbformat": 4,
 "nbformat_minor": 2
}
