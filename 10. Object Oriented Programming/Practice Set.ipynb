{
 "cells": [
  {
   "cell_type": "markdown",
   "metadata": {},
   "source": [
    "# Practice Set"
   ]
  },
  {
   "cell_type": "markdown",
   "metadata": {},
   "source": [
    "### 1. Create a class programmer for storing information of a few programmers working at Microsoft."
   ]
  },
  {
   "cell_type": "code",
   "execution_count": 32,
   "metadata": {},
   "outputs": [
    {
     "name": "stdout",
     "output_type": "stream",
     "text": [
      "Company is Microsoft\n",
      "Name of employee is Amir\n",
      "Branch is Warsaw, Poland\n",
      "Salary is 1000000\n"
     ]
    }
   ],
   "source": [
    "class Programmers:\n",
    "\n",
    "    def __init__(self, name, branch, salary):\n",
    "        self.name = name\n",
    "        self.branch = branch\n",
    "        self.salary = salary\n",
    "    \n",
    "    \n",
    "    def printData(self):\n",
    "        self.company = \"Microsoft\"\n",
    "        print(f\"Company is {self.company}\")\n",
    "        print(f\"Name of employee is {self.name}\")\n",
    "        print(f\"Branch is {self.branch}\")\n",
    "        print(f\"Salary is {self.salary}\")\n",
    "        \n",
    "pro1 = Programmers(\"Amir\", \"Warsaw, Poland\", 1000000)\n",
    "pro1.printData()"
   ]
  },
  {
   "cell_type": "code",
   "execution_count": 33,
   "metadata": {},
   "outputs": [
    {
     "name": "stdout",
     "output_type": "stream",
     "text": [
      "Company is Microsoft\n",
      "Name of employee is Max\n",
      "Branch is New York, USA\n",
      "Salary is 900000\n"
     ]
    }
   ],
   "source": [
    "pro2 = Programmers(\"Max\", \"New York, USA\", 900000)\n",
    "pro2.printData()"
   ]
  },
  {
   "cell_type": "markdown",
   "metadata": {},
   "source": [
    "### 2. Write a class calculator capable of finding square, cube and the square root of a number."
   ]
  },
  {
   "cell_type": "code",
   "execution_count": 65,
   "metadata": {},
   "outputs": [
    {
     "name": "stdout",
     "output_type": "stream",
     "text": [
      "The square of 4 is 16\n",
      "The cube of 4 is 64\n",
      "The square root of 4 is 2.0\n"
     ]
    }
   ],
   "source": [
    "class calculator:\n",
    "    \n",
    "    def square(self, num):\n",
    "        s = num**2\n",
    "        print(f\"The square of {num} is {s}\") \n",
    "    \n",
    "    def cube(self, num):\n",
    "        c = num**3\n",
    "        print(f\"The cube of {num} is {c}\")\n",
    "    \n",
    "    def sqrt(self, num):\n",
    "        sr = num **0.5\n",
    "        print(f\"The square root of {num} is {sr}\")\n",
    "    \n",
    "no = calculator()\n",
    "no.square(4)\n",
    "no.cube(4)\n",
    "no.sqrt(4)"
   ]
  },
  {
   "cell_type": "markdown",
   "metadata": {},
   "source": [
    "#### or by using constructor"
   ]
  },
  {
   "cell_type": "code",
   "execution_count": 74,
   "metadata": {},
   "outputs": [
    {
     "name": "stdout",
     "output_type": "stream",
     "text": [
      "The square of 4 is 16\n",
      "The cube of 4 is 256\n",
      "The square root of 4 is 2.0\n"
     ]
    }
   ],
   "source": [
    "class calculator:\n",
    "    \n",
    "    def __init__(self, num):\n",
    "        self.num = num\n",
    "    \n",
    "    def square(self):\n",
    "        print(f\"The square of {self.num} is {self.num ** 2}\") \n",
    "    \n",
    "    def cube(self):\n",
    "        print(f\"The cube of {self.num} is {self.num * self.num** 3}\")\n",
    "    \n",
    "    def sqrt(self):\n",
    "        print(f\"The square root of {self.num} is {self.num ** 0.5}\")\n",
    "    \n",
    "no = calculator(4)\n",
    "no.square()\n",
    "no.cube()\n",
    "no.sqrt()"
   ]
  },
  {
   "cell_type": "markdown",
   "metadata": {},
   "source": [
    "### 3. Create a class with a class attribute a; create an object from it and set a directly using object.a=0 Does this change the class attribute?"
   ]
  },
  {
   "cell_type": "code",
   "execution_count": 73,
   "metadata": {},
   "outputs": [
    {
     "name": "stdout",
     "output_type": "stream",
     "text": [
      "object attribute = 0\n",
      "class attribute = 2\n"
     ]
    }
   ],
   "source": [
    "class xyz:\n",
    "    a = 2         # class attribute\n",
    "    \n",
    "    \n",
    "num = xyz()         \n",
    "num.a = 0        # object attribute                \n",
    "print(\"object attribute =\", num.a)\n",
    "print(\"class attribute =\", xyz.a)"
   ]
  },
  {
   "cell_type": "markdown",
   "metadata": {},
   "source": [
    "So, it <b>doesn't</b> change becuase object is initiation of class."
   ]
  },
  {
   "cell_type": "markdown",
   "metadata": {},
   "source": [
    "### 4. Add a static method in problem 2 to greet the user with hello."
   ]
  },
  {
   "cell_type": "code",
   "execution_count": 4,
   "metadata": {},
   "outputs": [
    {
     "name": "stdout",
     "output_type": "stream",
     "text": [
      "***Welcome there to find Cube, Square and Squareroot\n",
      "The square of 4 is 16\n",
      "The cube of 4 is 256\n",
      "The square root of 4 is 2.0\n"
     ]
    }
   ],
   "source": [
    "class calculator:\n",
    "    \n",
    "    @staticmethod\n",
    "    def greet():\n",
    "        print(\"***Welcome there to find Cube, Square and Squareroot\")\n",
    "        \n",
    "        \n",
    "    def __init__(self, num):\n",
    "        self.num = num\n",
    "    \n",
    "    def square(self):\n",
    "        print(f\"The square of {self.num} is {self.num ** 2}\") \n",
    "    \n",
    "    def cube(self):\n",
    "        print(f\"The cube of {self.num} is {self.num * self.num** 3}\")\n",
    "    \n",
    "    def sqrt(self):\n",
    "        print(f\"The square root of {self.num} is {self.num ** 0.5}\")\n",
    "    \n",
    "no = calculator(4)\n",
    "no.greet()\n",
    "no.square()\n",
    "no.cube()\n",
    "no.sqrt()"
   ]
  },
  {
   "cell_type": "markdown",
   "metadata": {},
   "source": [
    "### 5. Write a class Train which has methods to book a ticket, get status(no of seats), and get fare information of trains running under Poland Railways."
   ]
  },
  {
   "cell_type": "code",
   "execution_count": 16,
   "metadata": {},
   "outputs": [
    {
     "name": "stdout",
     "output_type": "stream",
     "text": [
      "The name of the train is  PKP Polskie\n",
      "The seats available in the train are 2\n",
      "The price of the ticket is: 65 PLN\n",
      "Your ticket has been booked! Your seat number is 2\n"
     ]
    }
   ],
   "source": [
    "class Train:\n",
    "    def __init__(self, name, fare, seats):\n",
    "        self.name = name\n",
    "        self.fare = fare\n",
    "        self.seats = seats\n",
    "\n",
    "    def getStatus(self):\n",
    "        print(f\"The name of the train is {self.name}\")\n",
    "        print(f\"The seats available in the train are {self.seats}\")\n",
    "\n",
    "    def fareInfo(self):\n",
    "        print(f\"The price of the ticket is: {self.fare} PLN\")\n",
    "\n",
    "    def bookTicket(self):\n",
    "        if(self.seats>0):\n",
    "            print(f\"Your ticket has been booked! Your seat number is {self.seats}\")\n",
    "            self.seats = self.seats - 1\n",
    "        else:\n",
    "            print(\"Sorry this train is full! Kindly try in Linie Kolejowe\")\n",
    "\n",
    "\n",
    "intercity = Train(\" PKP Polskie\", 65, 2)\n",
    "intercity.getStatus()\n",
    "intercity.fareInfo()\n",
    "intercity.bookTicket()"
   ]
  },
  {
   "cell_type": "code",
   "execution_count": 17,
   "metadata": {},
   "outputs": [
    {
     "name": "stdout",
     "output_type": "stream",
     "text": [
      "The name of the train is  PKP Polskie\n",
      "The seats available in the train are 1\n",
      "The price of the ticket is: 65 PLN\n",
      "Your ticket has been booked! Your seat number is 1\n"
     ]
    }
   ],
   "source": [
    "intercity.getStatus()\n",
    "intercity.fareInfo()\n",
    "intercity.bookTicket()"
   ]
  },
  {
   "cell_type": "code",
   "execution_count": 18,
   "metadata": {},
   "outputs": [
    {
     "name": "stdout",
     "output_type": "stream",
     "text": [
      "The name of the train is  PKP Polskie\n",
      "The seats available in the train are 0\n",
      "The price of the ticket is: 65 PLN\n",
      "Sorry this train is full! Kindly try in Linie Kolejowe\n"
     ]
    }
   ],
   "source": [
    "intercity.getStatus()\n",
    "intercity.fareInfo()\n",
    "intercity.bookTicket()"
   ]
  },
  {
   "cell_type": "markdown",
   "metadata": {},
   "source": [
    "### 6. Can you change the self parameter inside a class? Try changing self to ‘slf’"
   ]
  },
  {
   "cell_type": "code",
   "execution_count": 25,
   "metadata": {},
   "outputs": [
    {
     "name": "stdout",
     "output_type": "stream",
     "text": [
      "Amir\n"
     ]
    }
   ],
   "source": [
    "class Sample:\n",
    "    \n",
    "    def name(slf):\n",
    "        slf.name = \"Amir\"\n",
    "        print(slf.name)\n",
    "        \n",
    "x = Sample()\n",
    "x.name()"
   ]
  },
  {
   "cell_type": "markdown",
   "metadata": {},
   "source": [
    "<b>Yes</b> we can change"
   ]
  }
 ],
 "metadata": {
  "kernelspec": {
   "display_name": "Python 3",
   "language": "python",
   "name": "python3"
  },
  "language_info": {
   "codemirror_mode": {
    "name": "ipython",
    "version": 3
   },
   "file_extension": ".py",
   "mimetype": "text/x-python",
   "name": "python",
   "nbconvert_exporter": "python",
   "pygments_lexer": "ipython3",
   "version": "3.6.1"
  }
 },
 "nbformat": 4,
 "nbformat_minor": 2
}
