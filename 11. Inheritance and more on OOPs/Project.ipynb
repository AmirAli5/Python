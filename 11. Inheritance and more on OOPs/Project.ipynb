{
 "cells": [
  {
   "cell_type": "markdown",
   "metadata": {},
   "source": [
    "# Project: Student Library\n",
    "Implement a student library system using OOPs where students can borrow a book from the list of books.\n",
    "\n",
    "Create a separate Library and Student class.\n",
    "\n",
    "Your program must be menu-driven.\n",
    "\n",
    "You are free to choose the methods and attributes of your choice to implement this functionality."
   ]
  },
  {
   "cell_type": "code",
   "execution_count": null,
   "metadata": {},
   "outputs": [],
   "source": [
    "class Library:\n",
    "    def __init__(self, listOfBooks):\n",
    "        self.books = listOfBooks\n",
    "\n",
    "    def displayAvailableBooks(self):\n",
    "        print(\"Books present in this library are: \")\n",
    "        for book in self.books: \n",
    "            print(\" *\" + book)\n",
    "    \n",
    "    def borrowBook(self, bookName):\n",
    "        if bookName in self.books:\n",
    "            print(f\"You have been issued {bookName}. Please keep it safe and return it within 30 days\")\n",
    "            self.books.remove(bookName)\n",
    "            return True\n",
    "        else:\n",
    "            print(\"Sorry, This book is either not available or has already been issued to someone else. Please wait until the book is available\")\n",
    "            return False\n",
    "\n",
    "    def returnBook(self, bookName):\n",
    "        self.books.append(bookName)\n",
    "        print(\"Thanks for returning this book! Hope you enjoyed reading it. Have a great day ahead!\")\n",
    "\n",
    "class Student: \n",
    "    def requestBook(self):\n",
    "        self.book = input(\"Enter the name of the book you want to borrow: \")\n",
    "        return self.book\n",
    "\n",
    "    def returnBook(self):\n",
    "        self.book = input(\"Enter the name of the book you want to return: \")\n",
    "        return self.book\n",
    "         \n",
    "\n",
    "if __name__ == \"__main__\":\n",
    "    centraLibrary = Library([\"Algorithms\", \"Django\", \"Clrs\", \"Python Notes\"])\n",
    "    student = Student()\n",
    "    # centraLibrary.displayAvailableBooks()\n",
    "    while(True):\n",
    "        welcomeMsg = '''\\n ====== Welcome to Central Library ======\n",
    "        Please choose an option:\n",
    "        1. List all the books\n",
    "        2. Request a book\n",
    "        3. Add/Return a book\n",
    "        4. Exit the Library\n",
    "        '''\n",
    "        print(welcomeMsg)\n",
    "        a = int(input(\"Enter a choice: \"))\n",
    "        if a == 1:\n",
    "            centraLibrary.displayAvailableBooks()\n",
    "        elif a == 2:\n",
    "            centraLibrary.borrowBook(student.requestBook())\n",
    "        elif a == 3:\n",
    "            centraLibrary.returnBook(student.returnBook())\n",
    "        elif a == 4:\n",
    "            print(\"Thanks for choosing Central Library. Have a great day ahead!\")\n",
    "            exit()\n",
    "        else:\n",
    "            print(\"Invalid Choice!\")"
   ]
  }
 ],
 "metadata": {
  "kernelspec": {
   "display_name": "Python 3",
   "language": "python",
   "name": "python3"
  },
  "language_info": {
   "codemirror_mode": {
    "name": "ipython",
    "version": 3
   },
   "file_extension": ".py",
   "mimetype": "text/x-python",
   "name": "python",
   "nbconvert_exporter": "python",
   "pygments_lexer": "ipython3",
   "version": "3.6.1"
  }
 },
 "nbformat": 4,
 "nbformat_minor": 2
}
