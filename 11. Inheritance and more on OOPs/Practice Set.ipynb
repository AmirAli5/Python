{
 "cells": [
  {
   "cell_type": "markdown",
   "metadata": {},
   "source": [
    "# Practice Set"
   ]
  },
  {
   "cell_type": "markdown",
   "metadata": {},
   "source": [
    "### 1. Create a class C-2d vector and use it to create another class representing a 3-d vector."
   ]
  },
  {
   "cell_type": "code",
   "execution_count": 4,
   "metadata": {},
   "outputs": [
    {
     "name": "stdout",
     "output_type": "stream",
     "text": [
      "4i + 5j\n",
      "5i + 2j + 7k\n"
     ]
    }
   ],
   "source": [
    "class C2dv:\n",
    "    \n",
    "    def __init__(self, i, j):\n",
    "        self.icap = i\n",
    "        self.jcap = j\n",
    "        \n",
    "    def __str__(self):\n",
    "        return f\"{self.icap}i + {self.jcap}j\"\n",
    "    \n",
    "class C3dv(C2dv):\n",
    "    \n",
    "    def __init__(self, i, j, k):\n",
    "        super().__init__(i, j)\n",
    "        self.kcap = k\n",
    "        \n",
    "    def __str__(self):\n",
    "        return f\"{self.icap}i + {self.jcap}j + {self.kcap}k\"\n",
    "    \n",
    "v2d = C2dv(4, 5)\n",
    "print(v2d)\n",
    "\n",
    "v3d = C3dv(5, 2, 7)\n",
    "print(v3d)"
   ]
  },
  {
   "cell_type": "markdown",
   "metadata": {},
   "source": [
    "### 2. Create a class pets from a class Animals and further create class Dog from Pets. Add a method bark to class Dog."
   ]
  },
  {
   "cell_type": "code",
   "execution_count": 7,
   "metadata": {},
   "outputs": [
    {
     "name": "stdout",
     "output_type": "stream",
     "text": [
      "The dog is barking in the street\n"
     ]
    }
   ],
   "source": [
    "class Animals:\n",
    "    pass\n",
    "\n",
    "class Pets(Animals):\n",
    "    pass\n",
    "\n",
    "class Dog(Pets):\n",
    "    \n",
    "    @staticmethod\n",
    "    def bark():\n",
    "        print(\"The dog is barking in the street\")\n",
    "        \n",
    "d = Dog()\n",
    "d.bark()"
   ]
  },
  {
   "cell_type": "markdown",
   "metadata": {},
   "source": [
    "### 3. Create a class Employee and add salary and increment properties to it.\n",
    "Write a method SalaryAfterIncrement method with a @property decorator with a setter which changes the value of increment based on the salary."
   ]
  },
  {
   "cell_type": "code",
   "execution_count": 2,
   "metadata": {},
   "outputs": [
    {
     "name": "stdout",
     "output_type": "stream",
     "text": [
      "2.25\n"
     ]
    }
   ],
   "source": [
    "class Employee:\n",
    "    salary = 4000\n",
    "    increament = 2.5\n",
    "    \n",
    "    @property\n",
    "    def SalaryAfterIncrement(self):\n",
    "        return self.salary * self.increament\n",
    "    @SalaryAfterIncrement.setter\n",
    "    def SalaryAfterIncrement(self, sai):\n",
    "        self.increament = sai/self.salary \n",
    "    \n",
    "a = Employee()\n",
    "a.SalaryAfterIncrement = 9000\n",
    "\n",
    "print(a.increament)"
   ]
  },
  {
   "cell_type": "markdown",
   "metadata": {},
   "source": [
    "### 4. Write a class complex to represent complex numbers, along with overloaded operators +  which adds."
   ]
  },
  {
   "cell_type": "code",
   "execution_count": 12,
   "metadata": {},
   "outputs": [
    {
     "name": "stdout",
     "output_type": "stream",
     "text": [
      "5 + 10i\n"
     ]
    }
   ],
   "source": [
    "class Complex:\n",
    "    \n",
    "    def __init__(self, r, i):\n",
    "        self.real = r\n",
    "        self.imagnery = i\n",
    "        \n",
    "    def __add__(self, c):\n",
    "        return Complex(self.real +  c.real, self.imagnery + c.imagnery )\n",
    "    \n",
    "    def __str__(self):\n",
    "        return f\"{self.real} + {self.imagnery}i\"\n",
    "        \n",
    "c1 = Complex(2, 5)\n",
    "c2 = Complex(3, 5)\n",
    "\n",
    "print(c1 + c2)"
   ]
  },
  {
   "cell_type": "markdown",
   "metadata": {},
   "source": [
    "### 5. Write __str__() method to print the vector as follows:\n",
    "7i + 8j + 10k"
   ]
  },
  {
   "cell_type": "code",
   "execution_count": 16,
   "metadata": {},
   "outputs": [
    {
     "name": "stdout",
     "output_type": "stream",
     "text": [
      "7i + 8j + 10k\n"
     ]
    }
   ],
   "source": [
    "class Vector:\n",
    "    \n",
    "    def __init__(self, i, j, k):\n",
    "        self.i = i\n",
    "        self.j = j\n",
    "        self.k = k\n",
    "        \n",
    "    def __str__(self):\n",
    "        return f\"{self.i}i + {self.j}j + {self.k}k\"\n",
    "    \n",
    "v = Vector(7, 8, 10)\n",
    "print(v)"
   ]
  }
 ],
 "metadata": {
  "kernelspec": {
   "display_name": "Python 3",
   "language": "python",
   "name": "python3"
  },
  "language_info": {
   "codemirror_mode": {
    "name": "ipython",
    "version": 3
   },
   "file_extension": ".py",
   "mimetype": "text/x-python",
   "name": "python",
   "nbconvert_exporter": "python",
   "pygments_lexer": "ipython3",
   "version": "3.6.1"
  }
 },
 "nbformat": 4,
 "nbformat_minor": 2
}
