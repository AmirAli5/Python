{
 "cells": [
  {
   "cell_type": "markdown",
   "metadata": {},
   "source": [
    "# Chapter 11: Inheritance and more on OOPs"
   ]
  },
  {
   "cell_type": "markdown",
   "metadata": {},
   "source": [
    "## Inheritance\n",
    "Inheritance is a way of creating a new class from an existing class."
   ]
  },
  {
   "cell_type": "markdown",
   "metadata": {},
   "source": [
    "#### Syntax"
   ]
  },
  {
   "cell_type": "code",
   "execution_count": 1,
   "metadata": {},
   "outputs": [],
   "source": [
    "class Employee:                            # Parent class\n",
    "    pass\n",
    "\n",
    "class DataScience(Employee):               # Derived or child class\n",
    "    pass"
   ]
  },
  {
   "cell_type": "markdown",
   "metadata": {},
   "source": [
    "We can use the methods and attributes of Employee in Programmer object."
   ]
  },
  {
   "cell_type": "code",
   "execution_count": 11,
   "metadata": {},
   "outputs": [
    {
     "name": "stdout",
     "output_type": "stream",
     "text": [
      "Hello World\n",
      "Hello World\n"
     ]
    }
   ],
   "source": [
    "class Employee:                            \n",
    "                                           \n",
    "    def show(self):\n",
    "        print(\"Hello World\")\n",
    "\n",
    "class DataScience(Employee):               \n",
    "    pass\n",
    "\n",
    "e = Employee()\n",
    "d = DataScience()\n",
    "e.show()                          \n",
    "d.show()                                   # use the method of parent class"
   ]
  },
  {
   "cell_type": "markdown",
   "metadata": {},
   "source": [
    "Also, we can overwrite"
   ]
  },
  {
   "cell_type": "code",
   "execution_count": 12,
   "metadata": {},
   "outputs": [
    {
     "name": "stdout",
     "output_type": "stream",
     "text": [
      "Hello World\n",
      "Google\n"
     ]
    }
   ],
   "source": [
    "class Employee:                            \n",
    "                                           \n",
    "    def show(self):\n",
    "        print(\"Hello World\")\n",
    "\n",
    "class DataScience(Employee):              \n",
    "    \n",
    "    def show(self):\n",
    "        print(\"Google\")\n",
    "\n",
    "e = Employee()\n",
    "d = DataScience()\n",
    "e.show()                          \n",
    "d.show()                                  # override method"
   ]
  },
  {
   "cell_type": "code",
   "execution_count": 16,
   "metadata": {},
   "outputs": [
    {
     "name": "stdout",
     "output_type": "stream",
     "text": [
      "Google\n",
      "Microsoft\n"
     ]
    }
   ],
   "source": [
    "class Employee: \n",
    "    \n",
    "    company = \"Google\"\n",
    "\n",
    "\n",
    "class DataScience(Employee):               \n",
    "    \n",
    "    company = \"Microsoft\"\n",
    "\n",
    "print(Employee.company)\n",
    "print(DataScience.company)               # override attribute"
   ]
  },
  {
   "cell_type": "markdown",
   "metadata": {},
   "source": [
    "or add new attributes and methods in the DataScience class."
   ]
  },
  {
   "cell_type": "code",
   "execution_count": 19,
   "metadata": {},
   "outputs": [
    {
     "name": "stdout",
     "output_type": "stream",
     "text": [
      "Senior Data Scientist\n"
     ]
    }
   ],
   "source": [
    "class Employee:\n",
    "    comapny = 'Google'\n",
    "    \n",
    "class DataScience(Employee):\n",
    "    \n",
    "    name = \"Amir\"\n",
    "    \n",
    "    def show(self):\n",
    "        print(\"Senior Data Scientist\")\n",
    "\n",
    "d = DataScience()\n",
    "d.show()                                 # new method in child class"
   ]
  },
  {
   "cell_type": "markdown",
   "metadata": {},
   "source": [
    "## Type of Inheritance\n",
    "1. Single Inheritance\n",
    "2. Multiple Inheritance\n",
    "3. Multilevel Inheritance"
   ]
  },
  {
   "cell_type": "markdown",
   "metadata": {},
   "source": [
    "### 1. Single Inheritance\n",
    "Single inheritance occurs when child class inherits only a single parent class.\n",
    "\n",
    "![](https://media.geeksforgeeks.org/wp-content/uploads/Single.jpg)"
   ]
  },
  {
   "cell_type": "code",
   "execution_count": 6,
   "metadata": {},
   "outputs": [
    {
     "data": {
      "text/plain": [
       "'ABC'"
      ]
     },
     "execution_count": 6,
     "metadata": {},
     "output_type": "execute_result"
    }
   ],
   "source": [
    "class A:\n",
    "    company = \"ABC\"\n",
    "\n",
    "class B(A):\n",
    "    pass\n",
    "\n",
    "B.company"
   ]
  },
  {
   "cell_type": "code",
   "execution_count": 21,
   "metadata": {},
   "outputs": [
    {
     "data": {
      "text/plain": [
       "'Warsaw University of Technology'"
      ]
     },
     "execution_count": 21,
     "metadata": {},
     "output_type": "execute_result"
    }
   ],
   "source": [
    "class Wut:\n",
    "    \n",
    "    u = \"Warsaw University of Technology\"\n",
    "    \n",
    "class Faculty(Wut):\n",
    "    \n",
    "    f = \"Faculty of Mathematics and Information Science\"\n",
    "    \n",
    "c = Faculty()\n",
    "c.u"
   ]
  },
  {
   "cell_type": "code",
   "execution_count": 20,
   "metadata": {},
   "outputs": [
    {
     "name": "stdout",
     "output_type": "stream",
     "text": [
      "Google\n",
      "Senior Data Scientist\n"
     ]
    }
   ],
   "source": [
    "class Employee:\n",
    "    company = 'Google'\n",
    "    \n",
    "class DataScience(Employee):\n",
    "    \n",
    "    name = \"Amir\"\n",
    "    \n",
    "    def show(self):\n",
    "        print(\"Senior Data Scientist\")\n",
    "\n",
    "d = DataScience()\n",
    "print(d.company)\n",
    "d.show()"
   ]
  },
  {
   "cell_type": "markdown",
   "metadata": {},
   "source": [
    "### 2. Multiple Inheritance\n",
    "Multiple inheritance occurs when the child class inherits from more than one parent class.\n",
    "\n",
    "![](https://media.geeksforgeeks.org/wp-content/uploads/sc1-1.png)"
   ]
  },
  {
   "cell_type": "code",
   "execution_count": 13,
   "metadata": {},
   "outputs": [
    {
     "name": "stdout",
     "output_type": "stream",
     "text": [
      "Google\n",
      "1231\n",
      "qwer\n"
     ]
    }
   ],
   "source": [
    "class A:                           # Parent Class A\n",
    "    company = \"Google\"\n",
    "    \n",
    "class B:                           # Parent Class B\n",
    "    no = 1231\n",
    "    \n",
    "class C(A, B):                     # Child Class C\n",
    "    name = \"qwer\"\n",
    "\n",
    "m = C()\n",
    "print(m.company)          \n",
    "print(m.no)               \n",
    "print(m.name)"
   ]
  },
  {
   "cell_type": "markdown",
   "metadata": {},
   "source": [
    "### 3. Multilevel Inheritance\n",
    "When a child class becomes a parent for another child class.\n",
    "\n",
    "\n",
    "![](https://media.geeksforgeeks.org/wp-content/uploads/multi.jpg)"
   ]
  },
  {
   "cell_type": "code",
   "execution_count": 29,
   "metadata": {},
   "outputs": [
    {
     "name": "stdout",
     "output_type": "stream",
     "text": [
      "A\n",
      "B\n",
      "C\n"
     ]
    }
   ],
   "source": [
    "class A:                                            # Parent Class A\n",
    "    name1 = \"A\"\n",
    "    \n",
    "class B(A):                                         # Child Class B\n",
    "    name2 = \"B\"\n",
    "    \n",
    "class C(B):                                         # Sub Child Class C\n",
    "    name3 = \"C\"\n",
    "    \n",
    "m = C()\n",
    "print(m.name1)\n",
    "print(m.name2)\n",
    "print(m.name3)"
   ]
  },
  {
   "cell_type": "code",
   "execution_count": 30,
   "metadata": {},
   "outputs": [
    {
     "name": "stdout",
     "output_type": "stream",
     "text": [
      "Warsaw University of technology\n",
      "Faculty of Mathematics and Information Science\n",
      "Data Science\n"
     ]
    }
   ],
   "source": [
    "class University:\n",
    "     \n",
    "    def uName(self):\n",
    "        print(\"Warsaw University of technology\")\n",
    "        \n",
    "class Faculty(University):\n",
    "    \n",
    "    def fName(self):\n",
    "        print(\"Faculty of Mathematics and Information Science\")\n",
    "        \n",
    "class Program(Faculty):\n",
    "    \n",
    "    def pName(self):\n",
    "        print(\"Data Science\")\n",
    "\n",
    "p = Program()\n",
    "p.uName()\n",
    "p.fName()\n",
    "p.pName()"
   ]
  },
  {
   "cell_type": "markdown",
   "metadata": {},
   "source": [
    "## Super() method"
   ]
  },
  {
   "cell_type": "markdown",
   "metadata": {},
   "source": [
    "Super method is used to access the methods of a super class in the derived class.\n",
    "\n",
    "$ super().__init__() $ # Calls constructor of the base class"
   ]
  },
  {
   "cell_type": "code",
   "execution_count": 9,
   "metadata": {},
   "outputs": [
    {
     "name": "stdout",
     "output_type": "stream",
     "text": [
      "Warsaw University of technology\n",
      "Faculty of Mathematics and Information Science\n",
      "Data Science\n"
     ]
    }
   ],
   "source": [
    "class University:\n",
    "     \n",
    "    def uName(self):\n",
    "        print(\"Warsaw University of technology\")\n",
    "        \n",
    "class Faculty(University):\n",
    "    \n",
    "    def fName(self):\n",
    "        super().uName()\n",
    "        print(\"Faculty of Mathematics and Information Science\")\n",
    "        \n",
    "class Program(Faculty):\n",
    "    \n",
    "    def pName(self):\n",
    "        super().fName()                       # it run first above class method >> fname()\n",
    "        print(\"Data Science\")\n",
    "        \n",
    "\n",
    "p = Program()\n",
    "p.pName()"
   ]
  },
  {
   "cell_type": "code",
   "execution_count": 12,
   "metadata": {},
   "outputs": [
    {
     "name": "stdout",
     "output_type": "stream",
     "text": [
      "Welcome to Our University\n",
      "Welcome to Our University\n",
      "Data Science\n"
     ]
    }
   ],
   "source": [
    "class University:\n",
    "    def __init__(self):\n",
    "        print(\"Welcome to Our University\")\n",
    "     \n",
    "    def uName(self):\n",
    "        print(\"Warsaw University of technology\")\n",
    "        \n",
    "class Faculty(University):\n",
    "    \n",
    "    def fName(self):\n",
    "        print(\"Faculty of Mathematics and Information Science\")\n",
    "        \n",
    "class Program(Faculty):\n",
    "    \n",
    "    def pName(self):\n",
    "        super().__init__()               #  it run super class method first  then this class method      \n",
    "        print(\"Data Science\")\n",
    "        \n",
    "\n",
    "p = Program()       # first output is our constructor second is superclass method and the third is current class methd\n",
    "p.pName()"
   ]
  },
  {
   "cell_type": "markdown",
   "metadata": {},
   "source": [
    "## Class method\n",
    "A class method is a method which is bound to the class and not the object of the class.<br>\n",
    "<b>@classmethod</b> decorator is used to create a class method."
   ]
  },
  {
   "cell_type": "code",
   "execution_count": 14,
   "metadata": {},
   "outputs": [
    {
     "name": "stdout",
     "output_type": "stream",
     "text": [
      "100\n",
      "200\n",
      "100\n"
     ]
    }
   ],
   "source": [
    "class Employee:\n",
    "    company = \"Google\"\n",
    "    salary = 100\n",
    "    \n",
    "    def changesalary(self, sal):\n",
    "        self.salary = sal\n",
    "        \n",
    "e = Employee()\n",
    "print(e.salary)\n",
    "e.changesalary(200)               # we don't want to create instance attribute we want to change the class attribute\n",
    "print(e.salary)                   # therefore we use class method (see the example below)\n",
    "print(Employee.salary)         "
   ]
  },
  {
   "cell_type": "code",
   "execution_count": 18,
   "metadata": {},
   "outputs": [
    {
     "name": "stdout",
     "output_type": "stream",
     "text": [
      "100\n",
      "200\n",
      "200\n"
     ]
    }
   ],
   "source": [
    "class Employee:\n",
    "    company = \"Google\"\n",
    "    salary = 100\n",
    "    \n",
    "    def changesalary(self, sal):\n",
    "        self.__class__.salary = sal                  # dendor method or below class method (working same)\n",
    "        \n",
    "e = Employee()\n",
    "print(e.salary)\n",
    "e.changesalary(200)\n",
    "print(e.salary)\n",
    "print(Employee.salary)"
   ]
  },
  {
   "cell_type": "code",
   "execution_count": 19,
   "metadata": {},
   "outputs": [
    {
     "name": "stdout",
     "output_type": "stream",
     "text": [
      "100\n",
      "200\n",
      "200\n"
     ]
    }
   ],
   "source": [
    "class Employee:\n",
    "    company = \"Google\"\n",
    "    salary = 100\n",
    "    \n",
    "    @classmethod                                 # class method\n",
    "    def changesalary(cls, sal):\n",
    "        cls.salary = sal\n",
    "        \n",
    "e = Employee()\n",
    "print(e.salary)\n",
    "e.changesalary(200)\n",
    "print(e.salary)\n",
    "print(Employee.salary)"
   ]
  },
  {
   "cell_type": "markdown",
   "metadata": {},
   "source": [
    "### @property decorators"
   ]
  },
  {
   "cell_type": "code",
   "execution_count": 25,
   "metadata": {},
   "outputs": [
    {
     "name": "stdout",
     "output_type": "stream",
     "text": [
      "1200\n"
     ]
    }
   ],
   "source": [
    "class Employee:\n",
    "    \n",
    "    salary = 1000\n",
    "    bonus = 200\n",
    "    \n",
    "    @property                              # also known as getter                  \n",
    "    def totalsalary(self):                 # It's actual is fn but work as a prperty\n",
    "        return self.salary + self.bonus\n",
    "    \n",
    "e = Employee() \n",
    "print(e.totalsalary)              # not as e.totalsalary()  because it's property not run fn"
   ]
  },
  {
   "cell_type": "markdown",
   "metadata": {},
   "source": [
    "### 1. @getters\n",
    "The method name with @property decorator is called <b>getter method</b>."
   ]
  },
  {
   "cell_type": "markdown",
   "metadata": {},
   "source": [
    "### 2. @setter\n",
    "We can define a function + @name.setter decorator like below:"
   ]
  },
  {
   "cell_type": "code",
   "execution_count": 41,
   "metadata": {},
   "outputs": [
    {
     "name": "stdout",
     "output_type": "stream",
     "text": [
      "700\n",
      "1000\n"
     ]
    }
   ],
   "source": [
    "class Employee:\n",
    "    \n",
    "    salary = 1000\n",
    "    bonus = 200\n",
    "    \n",
    "    @property                                       # @getter       \n",
    "    def totalsalary(self):                 \n",
    "        return self.salary + self.bonus\n",
    "    \n",
    "    @totalsalary.setter                             # @setter\n",
    "    def totalsalary(self, val): \n",
    "        self.bonus = val - self.salary \n",
    "    \n",
    "e = Employee() \n",
    "e.totalsalary = 1700\n",
    "print(e.bonus)\n",
    "print(e.salary)"
   ]
  },
  {
   "cell_type": "markdown",
   "metadata": {},
   "source": [
    "## Operator overloading in Python"
   ]
  },
  {
   "cell_type": "markdown",
   "metadata": {},
   "source": [
    "* Operators in python can be overloaded using dunder methods.\n",
    "\n",
    "* These methods are called when a given operator is used on the objects.\n",
    "\n",
    "Operators in python can be overloaded using the following methods:\n",
    "\n",
    "p1 + p2 -> p1.__add__(p2)\n",
    "\n",
    "p1 – p2 -> p1.__sub__(p2)\n",
    "\n",
    "p1 * p2 -> p1.__mul__(p2)\n",
    "\n",
    "p1 / p2 -> p1.__truediv__(p2)\n",
    "\n",
    "p1 // p2 -> p1.__floordiv__(p2)"
   ]
  },
  {
   "cell_type": "code",
   "execution_count": 5,
   "metadata": {},
   "outputs": [
    {
     "name": "stdout",
     "output_type": "stream",
     "text": [
      "Let's add\n"
     ]
    },
    {
     "data": {
      "text/plain": [
       "7"
      ]
     },
     "execution_count": 5,
     "metadata": {},
     "output_type": "execute_result"
    }
   ],
   "source": [
    "# add\n",
    "class Number:\n",
    "    \n",
    "    def __init__(self, num):\n",
    "        self.num = num\n",
    "        \n",
    "    def __add__(self, num2):\n",
    "        print(\"Let's add\")\n",
    "        return self.num + num2.num\n",
    "        \n",
    "n1 = Number(3)\n",
    "n2 = Number(4)\n",
    "sum = n1 + n2\n",
    "sum"
   ]
  },
  {
   "cell_type": "code",
   "execution_count": 9,
   "metadata": {},
   "outputs": [
    {
     "name": "stdout",
     "output_type": "stream",
     "text": [
      "Let's subtract\n"
     ]
    },
    {
     "data": {
      "text/plain": [
       "3"
      ]
     },
     "execution_count": 9,
     "metadata": {},
     "output_type": "execute_result"
    }
   ],
   "source": [
    "# subract\n",
    "class Number:\n",
    "    \n",
    "    def __init__(self, num):\n",
    "        self.num = num\n",
    "        \n",
    "    def __sub__(self, num2):\n",
    "        print(\"Let's subtract\")\n",
    "        return self.num - num2.num\n",
    "        \n",
    "n1 = Number(7)\n",
    "n2 = Number(4)\n",
    "sum = n1 - n2\n",
    "sum"
   ]
  },
  {
   "cell_type": "markdown",
   "metadata": {},
   "source": [
    "### Other dunder/magic methods in Python"
   ]
  },
  {
   "cell_type": "markdown",
   "metadata": {},
   "source": [
    "__str__() -> used  to set what gets displayed upon calling str(obj)\n",
    "\n",
    "__len__() -> used to set what gets displayed upon calling .__len__() or len(obj)"
   ]
  },
  {
   "cell_type": "code",
   "execution_count": 12,
   "metadata": {},
   "outputs": [
    {
     "name": "stdout",
     "output_type": "stream",
     "text": [
      "Decimal Number: 3\n"
     ]
    }
   ],
   "source": [
    "# str\n",
    "class Number:\n",
    "    \n",
    "    def __init__(self, num):\n",
    "        self.num = num\n",
    "        \n",
    "    def __str__(self):\n",
    "        return f\"Decimal Number: {self.num}\"\n",
    "    \n",
    "n = Number(3)\n",
    "print(n)"
   ]
  },
  {
   "cell_type": "code",
   "execution_count": 13,
   "metadata": {},
   "outputs": [
    {
     "data": {
      "text/plain": [
       "1"
      ]
     },
     "execution_count": 13,
     "metadata": {},
     "output_type": "execute_result"
    }
   ],
   "source": [
    "# len\n",
    "class Number:\n",
    "    \n",
    "    def __init__(self, num):\n",
    "        self.num = num\n",
    "    \n",
    "    def __len__(self):\n",
    "        return 1\n",
    "    \n",
    "n = Number(3)\n",
    "len(n)"
   ]
  }
 ],
 "metadata": {
  "kernelspec": {
   "display_name": "Python 3",
   "language": "python",
   "name": "python3"
  },
  "language_info": {
   "codemirror_mode": {
    "name": "ipython",
    "version": 3
   },
   "file_extension": ".py",
   "mimetype": "text/x-python",
   "name": "python",
   "nbconvert_exporter": "python",
   "pygments_lexer": "ipython3",
   "version": "3.6.1"
  }
 },
 "nbformat": 4,
 "nbformat_minor": 2
}
