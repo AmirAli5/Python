{
 "cells": [
  {
   "cell_type": "markdown",
   "metadata": {},
   "source": [
    "### Project 1: Snake, Water, Gun Game\n",
    "We all have played snake, water gun game in our childhood. If you haven’t, google the rules of this game and write a Python program capable of playing this game with the user."
   ]
  },
  {
   "cell_type": "code",
   "execution_count": 7,
   "metadata": {},
   "outputs": [
    {
     "name": "stdout",
     "output_type": "stream",
     "text": [
      "Choose one of them (Snake, Water, Gun): Snake\n",
      "Snake Gun\n",
      "Computer win\n"
     ]
    }
   ],
   "source": [
    "def com():\n",
    "    import random\n",
    "    computer = random.randint(1,4)\n",
    "    if computer == 1:\n",
    "        return \"Snake\" \n",
    "    elif computer == 2:\n",
    "        return \"Water\"\n",
    "    else:\n",
    "        return \"Gun\"\n",
    "    \n",
    "computer = com()\n",
    "\n",
    "user = input('Choose one of them (Snake, Water, Gun): ')\n",
    "\n",
    "print(user, computer)\n",
    "\n",
    "if computer == \"Snake\":\n",
    "    if user == \"Water\":\n",
    "        print('Computer win')\n",
    "        \n",
    "elif computer == \"Snake\":\n",
    "    if user == \"Gun\":\n",
    "        print('You win')\n",
    "        \n",
    "elif computer == \"Water\":\n",
    "     if user == \"Gun\":\n",
    "        print('Computer win')\n",
    "        \n",
    "elif computer == \"Water\":\n",
    "     if user == \"Snake\":\n",
    "        print('You win')\n",
    "        \n",
    "elif computer == \"Gun\":\n",
    "    if user == \"Snake\":\n",
    "        print('Computer win')\n",
    "\n",
    "elif computer == \"Gun\":\n",
    "    if user == \"Water\":\n",
    "        print('You win')\n",
    "else:\n",
    "        print('Tie')"
   ]
  }
 ],
 "metadata": {
  "kernelspec": {
   "display_name": "Python 3",
   "language": "python",
   "name": "python3"
  },
  "language_info": {
   "codemirror_mode": {
    "name": "ipython",
    "version": 3
   },
   "file_extension": ".py",
   "mimetype": "text/x-python",
   "name": "python",
   "nbconvert_exporter": "python",
   "pygments_lexer": "ipython3",
   "version": "3.6.1"
  }
 },
 "nbformat": 4,
 "nbformat_minor": 2
}
