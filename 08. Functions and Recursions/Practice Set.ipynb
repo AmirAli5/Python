{
 "cells": [
  {
   "cell_type": "markdown",
   "metadata": {},
   "source": [
    "# Practice Set"
   ]
  },
  {
   "cell_type": "markdown",
   "metadata": {},
   "source": [
    "### 1. Write a program using the function to find the greatest of three numbers."
   ]
  },
  {
   "cell_type": "code",
   "execution_count": 9,
   "metadata": {},
   "outputs": [
    {
     "name": "stdout",
     "output_type": "stream",
     "text": [
      "The greater number is 8\n"
     ]
    }
   ],
   "source": [
    "def greater_number(x, y, z):\n",
    "    if x > y:\n",
    "        g = x\n",
    "        \n",
    "    else:\n",
    "        g = y\n",
    "     \n",
    "    if g > z:\n",
    "        greater = g\n",
    "        \n",
    "    else:\n",
    "        greater = z\n",
    "        \n",
    "    return greater\n",
    "\n",
    "a = greater_number(7, 8, 3)\n",
    "print(\"The greater number is \" + str(a))"
   ]
  },
  {
   "cell_type": "markdown",
   "metadata": {},
   "source": [
    "<b>or</b>"
   ]
  },
  {
   "cell_type": "code",
   "execution_count": 10,
   "metadata": {},
   "outputs": [
    {
     "name": "stdout",
     "output_type": "stream",
     "text": [
      "The greater number is 8\n"
     ]
    }
   ],
   "source": [
    "def max_num(num1, num2, num3):\n",
    "    if (num1 > num2):\n",
    "        if num1 > num3:\n",
    "            return num1\n",
    "        else:\n",
    "            return num3\n",
    "            \n",
    "    else:\n",
    "        if num2 > num3:\n",
    "            return num2\n",
    "        else:\n",
    "            return num3\n",
    "        \n",
    "m = max_num(7, 8, 3)\n",
    "print(\"The greater number is \" + str(m))"
   ]
  },
  {
   "cell_type": "markdown",
   "metadata": {},
   "source": [
    "### 2. Write a python program using the function to convert Celsius to Fahrenheit."
   ]
  },
  {
   "cell_type": "code",
   "execution_count": 23,
   "metadata": {},
   "outputs": [
    {
     "name": "stdout",
     "output_type": "stream",
     "text": [
      "3\n",
      "3°C = 37.4°F\n"
     ]
    }
   ],
   "source": [
    "def c_to_f(c):\n",
    "    f = (c * 9/5) + 32\n",
    "    return f\n",
    "\n",
    "c = int(input())\n",
    "\n",
    "convert = c_to_f(c)\n",
    "\n",
    "print(f\"{c}°C = {convert}°F\")"
   ]
  },
  {
   "cell_type": "markdown",
   "metadata": {},
   "source": [
    "#### or"
   ]
  },
  {
   "cell_type": "code",
   "execution_count": 28,
   "metadata": {},
   "outputs": [
    {
     "name": "stdout",
     "output_type": "stream",
     "text": [
      "4\n",
      "4°C = 39.2°F\n"
     ]
    }
   ],
   "source": [
    "def fah(cel):\n",
    "    return (c * 9/5) + 32\n",
    "\n",
    "c= int(input())\n",
    "\n",
    "f = fah(c)\n",
    "\n",
    "print(f\"{c}°C = {f}°F\")"
   ]
  },
  {
   "cell_type": "markdown",
   "metadata": {},
   "source": [
    "### 3. How do you prevent a python print() function to print a new line at the end?"
   ]
  },
  {
   "cell_type": "code",
   "execution_count": 32,
   "metadata": {},
   "outputs": [
    {
     "name": "stdout",
     "output_type": "stream",
     "text": [
      "Hello How are you? "
     ]
    }
   ],
   "source": [
    "print(\"Hello\", end = \" \")\n",
    "print(\"How\", end = \" \")\n",
    "print(\"are\", end = \" \")\n",
    "print(\"you?\", end = \" \")"
   ]
  },
  {
   "cell_type": "markdown",
   "metadata": {},
   "source": [
    "bu using <b> end = \" \"</b> we can prevent new line in print function"
   ]
  },
  {
   "cell_type": "markdown",
   "metadata": {},
   "source": [
    "### 4. Write a recursive function to calculate the sum of first n natural numbers"
   ]
  },
  {
   "cell_type": "code",
   "execution_count": 56,
   "metadata": {},
   "outputs": [
    {
     "data": {
      "text/plain": [
       "10"
      ]
     },
     "execution_count": 56,
     "metadata": {},
     "output_type": "execute_result"
    }
   ],
   "source": [
    "def natural_num_sum(n):\n",
    "    if n==0 or n==1:\n",
    "        return 1\n",
    "    else:\n",
    "        return  sum1(n-1) + n      # Function calling itself\n",
    "    \n",
    "natural_num_sum(4)"
   ]
  },
  {
   "cell_type": "markdown",
   "metadata": {},
   "source": [
    "### 5. Write a python function to print the first n lines of the following pattern."
   ]
  },
  {
   "cell_type": "code",
   "execution_count": 6,
   "metadata": {},
   "outputs": [
    {
     "name": "stdout",
     "output_type": "stream",
     "text": [
      "***\n",
      "**\n",
      "*\n"
     ]
    }
   ],
   "source": [
    "def star_pattern():\n",
    "    for a in range(3, 0, -1):\n",
    "         print(a*'*')\n",
    "star_pattern()"
   ]
  },
  {
   "cell_type": "markdown",
   "metadata": {},
   "source": [
    "### 6. Write a python function that converts inches to cms."
   ]
  },
  {
   "cell_type": "code",
   "execution_count": 8,
   "metadata": {},
   "outputs": [
    {
     "name": "stdout",
     "output_type": "stream",
     "text": [
      "7.62\n"
     ]
    }
   ],
   "source": [
    "def inc_to_cm(x):\n",
    "    return x*2.54\n",
    "\n",
    "x = inc_to_cm(3)\n",
    "print(x)"
   ]
  },
  {
   "cell_type": "markdown",
   "metadata": {},
   "source": [
    "### 7. Write a python function to remove a given word from a list and strip it at the same time."
   ]
  },
  {
   "cell_type": "code",
   "execution_count": 15,
   "metadata": {},
   "outputs": [
    {
     "data": {
      "text/plain": [
       "'World'"
      ]
     },
     "execution_count": 15,
     "metadata": {},
     "output_type": "execute_result"
    }
   ],
   "source": [
    "def strp(x, y):\n",
    "    z = x.replace(y, \" \")\n",
    "    return z.strip()\n",
    "\n",
    "g = strp(\"    Hi World        \", \"Hi\")\n",
    "g"
   ]
  },
  {
   "cell_type": "markdown",
   "metadata": {},
   "source": [
    "### 8. Write a python function to print the multiplication table of a given number."
   ]
  },
  {
   "cell_type": "code",
   "execution_count": 20,
   "metadata": {},
   "outputs": [
    {
     "name": "stdout",
     "output_type": "stream",
     "text": [
      "2 x 1 = 2\n",
      "2 x 2 = 4\n",
      "2 x 3 = 6\n",
      "2 x 4 = 8\n",
      "2 x 5 = 10\n",
      "2 x 6 = 12\n",
      "2 x 7 = 14\n",
      "2 x 8 = 16\n",
      "2 x 9 = 18\n",
      "2 x 10 = 20\n"
     ]
    }
   ],
   "source": [
    "def table(n):\n",
    "    for i in range(1,11):\n",
    "        print(f\"{n} x {i} = {i*n}\")\n",
    "        \n",
    "table(2)"
   ]
  }
 ],
 "metadata": {
  "kernelspec": {
   "display_name": "Python 3",
   "language": "python",
   "name": "python3"
  },
  "language_info": {
   "codemirror_mode": {
    "name": "ipython",
    "version": 3
   },
   "file_extension": ".py",
   "mimetype": "text/x-python",
   "name": "python",
   "nbconvert_exporter": "python",
   "pygments_lexer": "ipython3",
   "version": "3.6.1"
  }
 },
 "nbformat": 4,
 "nbformat_minor": 2
}
