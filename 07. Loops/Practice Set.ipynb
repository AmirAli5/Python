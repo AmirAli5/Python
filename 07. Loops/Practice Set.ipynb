{
 "cells": [
  {
   "cell_type": "markdown",
   "metadata": {},
   "source": [
    "# Practice Set"
   ]
  },
  {
   "cell_type": "markdown",
   "metadata": {},
   "source": [
    "### 1. Write a program to print the multiplication table of a given number using for loop."
   ]
  },
  {
   "cell_type": "code",
   "execution_count": 11,
   "metadata": {},
   "outputs": [
    {
     "name": "stdout",
     "output_type": "stream",
     "text": [
      "Multiplication table: 4\n",
      "4 x 1 = 4\n",
      "4 x 2 = 8\n",
      "4 x 3 = 12\n",
      "4 x 4 = 16\n",
      "4 x 5 = 20\n",
      "4 x 6 = 24\n",
      "4 x 7 = 28\n",
      "4 x 8 = 32\n",
      "4 x 9 = 36\n",
      "4 x 10 = 40\n"
     ]
    }
   ],
   "source": [
    "no = int(input(\"Multiplication table: \"))\n",
    "for i in range(1, 11):\n",
    "    print(str(no) + \" x \" + str(i) + \" = \" + str(no*i))"
   ]
  },
  {
   "cell_type": "markdown",
   "metadata": {},
   "source": [
    "or"
   ]
  },
  {
   "cell_type": "code",
   "execution_count": 10,
   "metadata": {},
   "outputs": [
    {
     "name": "stdout",
     "output_type": "stream",
     "text": [
      "Multiplication table: 3\n",
      "3 x 1 = 3\n",
      "3 x 2 = 6\n",
      "3 x 3 = 9\n",
      "3 x 4 = 12\n",
      "3 x 5 = 15\n",
      "3 x 6 = 18\n",
      "3 x 7 = 21\n",
      "3 x 8 = 24\n",
      "3 x 9 = 27\n",
      "3 x 10 = 30\n"
     ]
    }
   ],
   "source": [
    "no = int(input(\"Multiplication table: \"))\n",
    "for i in range(1, 11):\n",
    "    print(f\"{no} x {i} = {no*i}\")"
   ]
  },
  {
   "cell_type": "markdown",
   "metadata": {},
   "source": [
    "### 2. Write a program to greet all the person names stored in a list and which starts with A."
   ]
  },
  {
   "cell_type": "code",
   "execution_count": 32,
   "metadata": {},
   "outputs": [
    {
     "name": "stdout",
     "output_type": "stream",
     "text": [
      "Hello Amir\n",
      "Hello Ansar\n"
     ]
    }
   ],
   "source": [
    "a = [\"Max\", \"Amir\", \"Ansar\", \"Karolina\"]\n",
    "for name in a:\n",
    "    if name.startswith(\"A\"):\n",
    "        print(\"Hello\", name)"
   ]
  },
  {
   "cell_type": "markdown",
   "metadata": {},
   "source": [
    "### 3. Attempt problem 1 using a while loop."
   ]
  },
  {
   "cell_type": "code",
   "execution_count": 1,
   "metadata": {},
   "outputs": [
    {
     "name": "stdout",
     "output_type": "stream",
     "text": [
      "Multiplication table: 5\n",
      "5 x 1 = 5\n",
      "5 x 2 = 10\n",
      "5 x 3 = 15\n",
      "5 x 4 = 20\n",
      "5 x 5 = 25\n",
      "5 x 6 = 30\n",
      "5 x 7 = 35\n",
      "5 x 8 = 40\n",
      "5 x 9 = 45\n",
      "5 x 10 = 50\n"
     ]
    }
   ],
   "source": [
    "no = int(input(\"Multiplication table: \"))\n",
    "i = 1\n",
    "while i <= 10:\n",
    "    print(f\"{no} x {i} = {i*no}\")\n",
    "    i = i + 1"
   ]
  },
  {
   "cell_type": "markdown",
   "metadata": {},
   "source": [
    "### 4. Write a program to find whether a given number is prime or not."
   ]
  },
  {
   "cell_type": "code",
   "execution_count": 10,
   "metadata": {},
   "outputs": [
    {
     "name": "stdout",
     "output_type": "stream",
     "text": [
      "Enter the number: 10\n",
      "The number is not prime\n"
     ]
    }
   ],
   "source": [
    "num = int(input(\"Enter the number: \"))\n",
    "prime = True\n",
    "for i in range(2, 10):\n",
    "    if 10%2==0:\n",
    "        prime = False\n",
    "        break\n",
    "if prime:\n",
    "    print(\"The number is prime\")\n",
    "else:\n",
    "    print(\"The number is not prime\")"
   ]
  },
  {
   "cell_type": "markdown",
   "metadata": {},
   "source": [
    "### 5. Write a program to find the sum of first n natural numbers using a while loop."
   ]
  },
  {
   "cell_type": "code",
   "execution_count": 4,
   "metadata": {},
   "outputs": [
    {
     "name": "stdout",
     "output_type": "stream",
     "text": [
      "Enter the number: 7\n",
      "0.0\n",
      "1.0\n",
      "3.0\n",
      "6.0\n",
      "10.0\n",
      "15.0\n",
      "21.0\n"
     ]
    }
   ],
   "source": [
    "num = int(input(\"Enter the number: \"))\n",
    "i = 0\n",
    "while i < num:\n",
    "    s = i* (i + 1)/2\n",
    "    print(s)\n",
    "    i = i + 1"
   ]
  },
  {
   "cell_type": "markdown",
   "metadata": {},
   "source": [
    "### 6. Write a program to calculate the factorial of a given number using for loop."
   ]
  },
  {
   "cell_type": "code",
   "execution_count": 16,
   "metadata": {},
   "outputs": [
    {
     "name": "stdout",
     "output_type": "stream",
     "text": [
      "Enter the number: 5\n",
      "The factorial of 5 is 120\n"
     ]
    }
   ],
   "source": [
    "num = int(input(\"Enter the number: \"))\n",
    "factorial = 1\n",
    "for i in range(1, num+1):\n",
    "    factorial = factorial * i\n",
    "print(f\"The factorial of {num} is {factorial}\")"
   ]
  },
  {
   "cell_type": "markdown",
   "metadata": {},
   "source": [
    "### 7. Write a program to print the following star pattern."
   ]
  },
  {
   "cell_type": "code",
   "execution_count": 6,
   "metadata": {},
   "outputs": [
    {
     "name": "stdout",
     "output_type": "stream",
     "text": [
      "*\n",
      "**\n",
      "***\n"
     ]
    }
   ],
   "source": [
    "for i in range(1, 4):\n",
    "    print('*'*i)"
   ]
  },
  {
   "cell_type": "markdown",
   "metadata": {},
   "source": [
    "### 8. Write a program to print the following star pattern."
   ]
  },
  {
   "cell_type": "code",
   "execution_count": 9,
   "metadata": {},
   "outputs": [
    {
     "name": "stdout",
     "output_type": "stream",
     "text": [
      "  *  \n",
      " *** \n",
      "*****\n"
     ]
    }
   ],
   "source": [
    "n = 3\n",
    "for i in range(3):\n",
    "    print(\" \"* (n - i - 1), end = \"\")\n",
    "    print(\"*\"* (2 * i + 1), end = \"\")\n",
    "    print(\" \"* (n - i - 1))"
   ]
  },
  {
   "cell_type": "markdown",
   "metadata": {},
   "source": [
    "### 9. Write a program to print the multiplication table of n using for loop in reversed order."
   ]
  },
  {
   "cell_type": "code",
   "execution_count": 2,
   "metadata": {},
   "outputs": [
    {
     "name": "stdout",
     "output_type": "stream",
     "text": [
      "Multiplication table: 5\n",
      "5 x 10 = 50\n",
      "5 x 9 = 45\n",
      "5 x 8 = 40\n",
      "5 x 7 = 35\n",
      "5 x 6 = 30\n",
      "5 x 5 = 25\n",
      "5 x 4 = 20\n",
      "5 x 3 = 15\n",
      "5 x 2 = 10\n",
      "5 x 1 = 5\n"
     ]
    }
   ],
   "source": [
    "no = int(input(\"Multiplication table: \"))\n",
    "for i in range(10, 0, -1):\n",
    "    print(f\"{no} x {i} = {no*i}\")"
   ]
  }
 ],
 "metadata": {
  "kernelspec": {
   "display_name": "Python 3",
   "language": "python",
   "name": "python3"
  },
  "language_info": {
   "codemirror_mode": {
    "name": "ipython",
    "version": 3
   },
   "file_extension": ".py",
   "mimetype": "text/x-python",
   "name": "python",
   "nbconvert_exporter": "python",
   "pygments_lexer": "ipython3",
   "version": "3.6.1"
  }
 },
 "nbformat": 4,
 "nbformat_minor": 2
}
