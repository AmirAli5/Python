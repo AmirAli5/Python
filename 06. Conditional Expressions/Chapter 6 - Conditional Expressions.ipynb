{
 "cells": [
  {
   "cell_type": "markdown",
   "metadata": {},
   "source": [
    "# Chapter 6 : Conditional Expressions"
   ]
  },
  {
   "cell_type": "markdown",
   "metadata": {},
   "source": [
    "* Sometimes we want to play pubg on our phone if the day is Sunday.\n",
    "\n",
    "* Sometimes we order Ice-cream online if the day is sunny.\n",
    "\n",
    "* Sometimes we go hiking if our parents allow. \n",
    "* All these are decisions that depend on the condition being met.\n",
    "* In python programming too, we must be able to execute instructions on a condition(s) being met. This is what conditions are for!"
   ]
  },
  {
   "cell_type": "markdown",
   "metadata": {},
   "source": [
    "### If else and elif in Python\n",
    "iff else and elif statements are a multiway decision taken by our program due to certain conditions in our code."
   ]
  },
  {
   "cell_type": "code",
   "execution_count": 2,
   "metadata": {},
   "outputs": [
    {
     "name": "stdout",
     "output_type": "stream",
     "text": [
      " A is greater than 30\n"
     ]
    }
   ],
   "source": [
    "a = 48\n",
    "\n",
    "if (a > 30):                                          # true \n",
    "    print(\" A is greater than 30\")  \n",
    "    \n",
    "elif (a > 50):\n",
    "    print(\" A is greater than 50\")\n",
    "    \n",
    "else:\n",
    "    print(\" A is less than 30 and 50\")"
   ]
  },
  {
   "cell_type": "code",
   "execution_count": 4,
   "metadata": {},
   "outputs": [
    {
     "name": "stdout",
     "output_type": "stream",
     "text": [
      " A is greater than 30\n"
     ]
    }
   ],
   "source": [
    "a = 48\n",
    "\n",
    "if (a > 50):                                    # false\n",
    "    print(\" A is greater than 50\")  \n",
    "    \n",
    "elif (a > 30):                                  # true\n",
    "    print(\" A is greater than 30\")                  \n",
    "    \n",
    "else:\n",
    "    print(\" A is less than 30 and 50\")"
   ]
  },
  {
   "cell_type": "code",
   "execution_count": 5,
   "metadata": {},
   "outputs": [
    {
     "name": "stdout",
     "output_type": "stream",
     "text": [
      " A is less than 50 and 60\n"
     ]
    }
   ],
   "source": [
    "a = 48\n",
    "\n",
    "if (a > 50):                                    # false\n",
    "    print(\" A is greater than 50\")  \n",
    "    \n",
    "elif (a > 60):                                  # false\n",
    "    print(\" A is greater than 60\")                  \n",
    "    \n",
    "else:                                           # else run\n",
    "    print(\" A is less than 50 and 60\")"
   ]
  },
  {
   "cell_type": "markdown",
   "metadata": {},
   "source": [
    "### Mutiple elif statement"
   ]
  },
  {
   "cell_type": "code",
   "execution_count": 6,
   "metadata": {},
   "outputs": [
    {
     "name": "stdout",
     "output_type": "stream",
     "text": [
      " A is greater than 60\n"
     ]
    }
   ],
   "source": [
    "a = 61\n",
    "\n",
    "if (a > 70):                                          # false\n",
    "    print(\" A is greater than 70\")  \n",
    "    \n",
    "elif (a > 65):                                        # false\n",
    "    print(\" A is greater than 65\")\n",
    "    \n",
    "elif (a > 60):                                        # true\n",
    "    print(\" A is greater than 60\")\n",
    "    \n",
    "elif (a > 55):\n",
    "    print(\" A is greater than 55\")\n",
    "    \n",
    "elif (a > 55):\n",
    "    print(\" A is greater than 55\")\n",
    "    \n",
    "else:\n",
    "    print(\" A is less than ....\")"
   ]
  },
  {
   "cell_type": "markdown",
   "metadata": {},
   "source": [
    "### Mutiple if Statement"
   ]
  },
  {
   "cell_type": "code",
   "execution_count": 8,
   "metadata": {},
   "outputs": [
    {
     "name": "stdout",
     "output_type": "stream",
     "text": [
      "4 < 5\n",
      "4 < 6\n",
      "4 < 7\n"
     ]
    }
   ],
   "source": [
    "a = 4\n",
    "\n",
    "if (a < 5):\n",
    "    print(\"4 < 5\")                             # independent\n",
    "    \n",
    "if (a < 6):\n",
    "    print(\"4 < 6\")                             # independent\n",
    "    \n",
    "if (a < 7):                                     \n",
    "    print(\"4 < 7\")                             # dependent\n",
    "    \n",
    "elif (a < 8):\n",
    "    print(\"4 < 6\")\n",
    "    \n",
    "else:\n",
    "    print(\" a is greater than above all values\")"
   ]
  },
  {
   "cell_type": "markdown",
   "metadata": {},
   "source": [
    "### Nested Conditional Statement"
   ]
  },
  {
   "cell_type": "code",
   "execution_count": 17,
   "metadata": {},
   "outputs": [
    {
     "name": "stdout",
     "output_type": "stream",
     "text": [
      "outher if\n"
     ]
    }
   ],
   "source": [
    "a = 4\n",
    "if (a == 4):\n",
    "    print(\"outher if\")\n",
    "    if (a > 5):\n",
    "        print(\" inner if\")\n",
    "        \n",
    "elif ( a == 4):\n",
    "    print(\"outher elif\")\n",
    "    \n",
    "else:\n",
    "    print('outer else')"
   ]
  },
  {
   "cell_type": "code",
   "execution_count": 20,
   "metadata": {},
   "outputs": [
    {
     "name": "stdout",
     "output_type": "stream",
     "text": [
      "outher if\n",
      "inner if\n"
     ]
    }
   ],
   "source": [
    "a = 4\n",
    "if (a == 4):\n",
    "    print(\"outher if\")\n",
    "    if (a > 3):\n",
    "        print(\"inner if\")\n",
    "        \n",
    "elif ( a == 4):\n",
    "    print(\"outher elif\")\n",
    "    \n",
    "else:\n",
    "    print('outer else')"
   ]
  },
  {
   "cell_type": "code",
   "execution_count": 21,
   "metadata": {},
   "outputs": [
    {
     "name": "stdout",
     "output_type": "stream",
     "text": [
      "outher if\n",
      "inner elif\n"
     ]
    }
   ],
   "source": [
    "a = 4\n",
    "if (a == 4):\n",
    "    print(\"outher if\")\n",
    "    if (a > 5):\n",
    "        print(\"inner if\")\n",
    "    elif (a > 2):\n",
    "        print(\"inner elif\")\n",
    "        \n",
    "elif ( a == 4):\n",
    "    print(\"outher elif\")\n",
    "    \n",
    "else:\n",
    "    print('outer else')"
   ]
  },
  {
   "cell_type": "code",
   "execution_count": 22,
   "metadata": {},
   "outputs": [
    {
     "name": "stdout",
     "output_type": "stream",
     "text": [
      "outher if\n",
      "inner else\n"
     ]
    }
   ],
   "source": [
    "a = 4\n",
    "if (a == 4):\n",
    "    print(\"outher if\")\n",
    "    if (a > 5):\n",
    "        print(\"inner if\")\n",
    "    elif (a > 6):\n",
    "        print(\"inner elif\")\n",
    "    else:\n",
    "        print(\"inner else\")\n",
    "        \n",
    "elif ( a == 4):\n",
    "    print(\"outher elif\")\n",
    "    \n",
    "else:\n",
    "    print('outer else')"
   ]
  },
  {
   "cell_type": "code",
   "execution_count": 24,
   "metadata": {},
   "outputs": [
    {
     "name": "stdout",
     "output_type": "stream",
     "text": [
      "outher if\n",
      "inner if\n"
     ]
    }
   ],
   "source": [
    "a = 4\n",
    "if (a == 4):\n",
    "    print(\"outher if\")\n",
    "    if (a > 3):\n",
    "        print(\"inner if\")\n",
    "        if (a > 4):\n",
    "            print(\"inner inner if\")\n",
    "    elif (a > 6):\n",
    "        print(\"inner elif\")\n",
    "    else:\n",
    "        print(\"inner else\")\n",
    "        \n",
    "elif ( a == 4):\n",
    "    print(\"outher elif\")\n",
    "    \n",
    "else:\n",
    "    print('outer else')"
   ]
  },
  {
   "cell_type": "code",
   "execution_count": 25,
   "metadata": {},
   "outputs": [
    {
     "name": "stdout",
     "output_type": "stream",
     "text": [
      "outher if\n",
      "inner if\n",
      "inner inner if\n"
     ]
    }
   ],
   "source": [
    "a = 4\n",
    "if (a == 4):\n",
    "    print(\"outher if\")\n",
    "    if (a > 3):\n",
    "        print(\"inner if\")\n",
    "        if (a > 2):\n",
    "            print(\"inner inner if\")\n",
    "    elif (a > 6):\n",
    "        print(\"inner elif\")\n",
    "    else:\n",
    "        print(\"inner else\")\n",
    "        \n",
    "elif ( a == 4):\n",
    "    print(\"outher elif\")\n",
    "    \n",
    "else:\n",
    "    print('outer else')"
   ]
  },
  {
   "cell_type": "markdown",
   "metadata": {},
   "source": [
    "### Quiz: Write a program to print yes when the age entered by the user is greater than or equal to 18."
   ]
  },
  {
   "cell_type": "code",
   "execution_count": 28,
   "metadata": {},
   "outputs": [
    {
     "name": "stdout",
     "output_type": "stream",
     "text": [
      "Enter the age : 19\n",
      "yes\n"
     ]
    }
   ],
   "source": [
    "age = int(input(\"Enter the age : \"))\n",
    "\n",
    "if (age >= 18):\n",
    "    print(\"yes\")\n",
    "\n",
    "else:\n",
    "    print(\"no\")"
   ]
  },
  {
   "cell_type": "markdown",
   "metadata": {},
   "source": [
    "### Important Notes:\n",
    "\n",
    "* There can be any number of elif statements.\n",
    "* Last else is executed only if all the conditions inside elifs fail."
   ]
  },
  {
   "cell_type": "code",
   "execution_count": null,
   "metadata": {},
   "outputs": [],
   "source": []
  }
 ],
 "metadata": {
  "kernelspec": {
   "display_name": "Python 3",
   "language": "python",
   "name": "python3"
  },
  "language_info": {
   "codemirror_mode": {
    "name": "ipython",
    "version": 3
   },
   "file_extension": ".py",
   "mimetype": "text/x-python",
   "name": "python",
   "nbconvert_exporter": "python",
   "pygments_lexer": "ipython3",
   "version": "3.6.1"
  }
 },
 "nbformat": 4,
 "nbformat_minor": 2
}
