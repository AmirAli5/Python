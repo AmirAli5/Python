{
 "cells": [
  {
   "cell_type": "markdown",
   "metadata": {},
   "source": [
    "# Practice Set"
   ]
  },
  {
   "cell_type": "markdown",
   "metadata": {},
   "source": [
    "### 1. Write a program to find the greatest of four numbers entered by the user"
   ]
  },
  {
   "cell_type": "code",
   "execution_count": 3,
   "metadata": {},
   "outputs": [
    {
     "name": "stdout",
     "output_type": "stream",
     "text": [
      "Enter the 1st number : 5\n",
      "Enter the 2nd number : 8\n",
      "Enter the 3rd number : 34\n",
      "Enter the 4th number : 2\n",
      "34 is greater\n"
     ]
    }
   ],
   "source": [
    "user1 = int(input(\"Enter the 1st number : \"))\n",
    "user2 = int(input(\"Enter the 2nd number : \"))\n",
    "user3 = int(input(\"Enter the 3rd number : \"))\n",
    "user4 = int(input(\"Enter the 4th number : \"))\n",
    "\n",
    "if user1 > user2:\n",
    "    f1 = user1\n",
    "else:\n",
    "    f1 = user2\n",
    "    \n",
    "if user3 >  user4:\n",
    "    f2= user3\n",
    "else:\n",
    "    f2= user4\n",
    "    \n",
    "if f1 > f2:\n",
    "    print(str(f1) + \" is greater\")\n",
    "    \n",
    "else:\n",
    "    print(str(f2) + \" is greater\")"
   ]
  },
  {
   "cell_type": "markdown",
   "metadata": {},
   "source": [
    "### 2. Write a program to find out whether a student is pass or fail if it requires a total of 40% and at least 33% in each subject to pass. Assume 3 subjects and take marks as an input from the user."
   ]
  },
  {
   "cell_type": "code",
   "execution_count": 9,
   "metadata": {},
   "outputs": [
    {
     "name": "stdout",
     "output_type": "stream",
     "text": [
      "Enter the 1st Subject name : 56\n",
      "Enter the 2nd Subject name : 87\n",
      "Enter the 3rd Subject name : 45\n",
      "congrats! your pass\n"
     ]
    }
   ],
   "source": [
    "sub1 = int(input('Enter the 1st Subject name : '))\n",
    "sub2 = int(input('Enter the 2nd Subject name : '))\n",
    "sub3 = int(input('Enter the 3rd Subject name : '))\n",
    "\n",
    "if sub1 < 33 or sub2 <33 or sub3 < 33:\n",
    "    print(\"your fail becuase you have less 33% in one of subject\")\n",
    "elif (sub1 + sub2 + sub3)/3 <40:\n",
    "    print(\"your fail becuase you have less than 40% marks overall\")\n",
    "else:\n",
    "    print(\"congrats! your pass\")"
   ]
  },
  {
   "cell_type": "markdown",
   "metadata": {},
   "source": [
    "### 3. A spam comment is defined as a text containing the following keywords:\n",
    "“make a lot of money”, “buy now”, “subscribe this”, “click this”. <br>\n",
    "Write a program to detect these spams."
   ]
  },
  {
   "cell_type": "code",
   "execution_count": 1,
   "metadata": {},
   "outputs": [
    {
     "name": "stdout",
     "output_type": "stream",
     "text": [
      "Enter the comments : can you subscribe this channel please\n",
      "spam\n"
     ]
    }
   ],
   "source": [
    "text = input(\"Enter the comments : \")\n",
    "\n",
    "if (\"make a lot of money\" in text):\n",
    "    spam = True\n",
    "elif (\"buy now\" in text):\n",
    "    spam = True\n",
    "elif (\"subscribe this\" in text):\n",
    "    spam = True\n",
    "elif (\"click this\" in text):\n",
    "    spam = True\n",
    "else:\n",
    "    spam = False\n",
    "    \n",
    "if spam:\n",
    "    print(\"spam\")\n",
    "else:\n",
    "    print(\"not spam\")"
   ]
  },
  {
   "cell_type": "markdown",
   "metadata": {},
   "source": [
    "### 4. Write a program to find whether a given username contains less than 10 characters or not."
   ]
  },
  {
   "cell_type": "code",
   "execution_count": 8,
   "metadata": {},
   "outputs": [
    {
     "name": "stdout",
     "output_type": "stream",
     "text": [
      "Enter the username : amirali\n",
      "less than 10 characters\n"
     ]
    }
   ],
   "source": [
    "username = input(\"Enter the username : \")\n",
    "\n",
    "if len(username) < 10:\n",
    "    print (\"less than 10 characters\")\n",
    "    \n",
    "else:\n",
    "    print('more than 10 characters')"
   ]
  },
  {
   "cell_type": "markdown",
   "metadata": {},
   "source": [
    "### 5. Write a program that finds out whether a given name is present in a list or not."
   ]
  },
  {
   "cell_type": "code",
   "execution_count": 3,
   "metadata": {},
   "outputs": [
    {
     "name": "stdout",
     "output_type": "stream",
     "text": [
      "Enter the Names : Amir\n",
      "yeah the given name is present in list\n"
     ]
    }
   ],
   "source": [
    "names = [\"Amir\", \"Ansar\", \"Balaj\", \"Max\", \"Karan\", \"karolina\", \"Magdalena\"]\n",
    "\n",
    "user = input(\"Enter the Names : \")\n",
    "\n",
    "if user in names:\n",
    "    print(\"yeah the given name is present in list\")\n",
    "\n",
    "else:\n",
    "    print(\"the given name is not present in list\")"
   ]
  },
  {
   "cell_type": "markdown",
   "metadata": {},
   "source": [
    "### 6. Write a program to calculate the grade of a student from his marks from the following scheme:\n",
    "90 – 100 -> Ex\n",
    "\n",
    "80 - 90 -> A\n",
    "\n",
    "70 – 80 -> B\n",
    "\n",
    "60 – 70 -> C\n",
    "\n",
    "50 – 60 -> D\n",
    "\n",
    "<50 – F"
   ]
  },
  {
   "cell_type": "code",
   "execution_count": 15,
   "metadata": {},
   "outputs": [
    {
     "name": "stdout",
     "output_type": "stream",
     "text": [
      "Enter the marks : 72\n",
      "Grade is: B\n"
     ]
    }
   ],
   "source": [
    "marks = int(input(\"Enter the marks : \"))\n",
    "\n",
    "if marks >= 90:\n",
    "    print(\"Grade is: Ex\")\n",
    "    \n",
    "elif marks >=80:\n",
    "    print(\"Grade is: A\")\n",
    "    \n",
    "elif marks >= 70:\n",
    "    print(\"Grade is: B\")\n",
    "    \n",
    "elif marks >=60:\n",
    "    print(\"Grade is: C\")\n",
    "    \n",
    "elif marks >=50:\n",
    "    print(\"Grade is: D\")\n",
    "    \n",
    "else:\n",
    "    print(\"Grade is: F\")"
   ]
  },
  {
   "cell_type": "markdown",
   "metadata": {},
   "source": [
    "### 7. Write a program to find out whether a given post is talking about “Amir” or not."
   ]
  },
  {
   "cell_type": "code",
   "execution_count": 5,
   "metadata": {},
   "outputs": [
    {
     "name": "stdout",
     "output_type": "stream",
     "text": [
      "Comments : Congrats! Amir for new Job\n",
      "yes this post is taking about Amir\n"
     ]
    }
   ],
   "source": [
    "post = input(\"Comments : \")\n",
    "\n",
    "if \"Amir\" in post:\n",
    "    print(\"yes this post is taking about Amir\")\n",
    "    \n",
    "else:\n",
    "    print(\"no this post is not taking about Amir\")"
   ]
  },
  {
   "cell_type": "code",
   "execution_count": 7,
   "metadata": {},
   "outputs": [
    {
     "name": "stdout",
     "output_type": "stream",
     "text": [
      "Comments : Congrats! amir for new Job\n",
      "yes this post is taking about Amir\n"
     ]
    }
   ],
   "source": [
    "post = input(\"Comments : \")\n",
    "\n",
    "if \"Amir\" in post:\n",
    "    posts = True\n",
    "    \n",
    "elif \"AMIR\" in post:\n",
    "    posts = True\n",
    "    \n",
    "elif \"amir\" in post:\n",
    "    posts = True\n",
    "    \n",
    "else:\n",
    "    posts = False\n",
    "    \n",
    "if posts:\n",
    "    print(\"yes this post is taking about Amir\")\n",
    "    \n",
    "else:\n",
    "    print(\"no this post is not taking about Amir\")"
   ]
  },
  {
   "cell_type": "code",
   "execution_count": null,
   "metadata": {},
   "outputs": [],
   "source": []
  }
 ],
 "metadata": {
  "kernelspec": {
   "display_name": "Python 3",
   "language": "python",
   "name": "python3"
  },
  "language_info": {
   "codemirror_mode": {
    "name": "ipython",
    "version": 3
   },
   "file_extension": ".py",
   "mimetype": "text/x-python",
   "name": "python",
   "nbconvert_exporter": "python",
   "pygments_lexer": "ipython3",
   "version": "3.6.1"
  }
 },
 "nbformat": 4,
 "nbformat_minor": 2
}
