{
 "cells": [
  {
   "cell_type": "markdown",
   "metadata": {},
   "source": [
    "# Chapter 0: Introduction"
   ]
  },
  {
   "cell_type": "markdown",
   "metadata": {},
   "source": [
    "### What is programming\n",
    "Just like we use English to communicate with each other, we use a Programming language Python to communicate with the computer. <br>\n",
    "Programming is a way to instruct the computer to perform various tasks.\n"
   ]
  },
  {
   "cell_type": "markdown",
   "metadata": {},
   "source": [
    "### What is Python?\n",
    "Python is simple and easy to understand language which feels like reading simple English. This Pseudo code nature of Python makes it easy to learn and understandable for beginners.\n"
   ]
  },
  {
   "cell_type": "markdown",
   "metadata": {},
   "source": [
    "### Features of Python:\n",
    "* Easy to understand = Less development time\n",
    "* Free and open source\n",
    "* High-level language\n",
    "* Portable – works on Windows/Linux/Mac\n",
    "* Fun to work with :)"
   ]
  },
  {
   "cell_type": "markdown",
   "metadata": {},
   "source": [
    "### Installation\n",
    "Python can be easily installed from python.org <br>\n",
    "When you click on the download button, python can be installed right after you complete the setup by executing the file for your platform.<br>\n",
    "Tip: Just install it like a game ☻"
   ]
  }
 ],
 "metadata": {
  "kernelspec": {
   "display_name": "Python 3",
   "language": "python",
   "name": "python3"
  },
  "language_info": {
   "codemirror_mode": {
    "name": "ipython",
    "version": 3
   },
   "file_extension": ".py",
   "mimetype": "text/x-python",
   "name": "python",
   "nbconvert_exporter": "python",
   "pygments_lexer": "ipython3",
   "version": "3.6.1"
  }
 },
 "nbformat": 4,
 "nbformat_minor": 2
}
