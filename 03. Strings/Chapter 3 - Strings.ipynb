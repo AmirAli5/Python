{
 "cells": [
  {
   "cell_type": "markdown",
   "metadata": {},
   "source": [
    "# Chapter 3: Strings\n",
    "The string is a data type in Python. <br>\n",
    "A string is a sequence of characters enclosed in quotes. <br>\n",
    "We can primarily, write a string in three ways:\n"
   ]
  },
  {
   "cell_type": "code",
   "execution_count": 3,
   "metadata": {},
   "outputs": [],
   "source": [
    "a = 'amir'           # single quoted\n",
    "b = \"amir\"           # double quoted\n",
    "c = '''amir'''       # triple quoted "
   ]
  },
  {
   "cell_type": "code",
   "execution_count": 11,
   "metadata": {},
   "outputs": [],
   "source": [
    "a = 'amir\"s'     # single quote is use when you have double quote in your string      \n",
    "b = \"amir's\"     # double quote is use when youm have single quote in you string\n",
    "c = '''Ami'r\n",
    "and Amir\"r '''   # triple quote is use when you have double & single quote in you string(also use to write multipleline strings)"
   ]
  },
  {
   "cell_type": "code",
   "execution_count": 12,
   "metadata": {},
   "outputs": [
    {
     "name": "stdout",
     "output_type": "stream",
     "text": [
      "<class 'str'>\n",
      "<class 'str'>\n",
      "<class 'str'>\n"
     ]
    }
   ],
   "source": [
    "print(type(a))\n",
    "print(type(b))\n",
    "print(type(c))"
   ]
  },
  {
   "cell_type": "markdown",
   "metadata": {},
   "source": [
    "## String Concatenating\n",
    "In concatenating we basically add strings"
   ]
  },
  {
   "cell_type": "code",
   "execution_count": 15,
   "metadata": {},
   "outputs": [
    {
     "name": "stdout",
     "output_type": "stream",
     "text": [
      "Good morining, Amir\n"
     ]
    }
   ],
   "source": [
    "greeting = \"Good morining, \"\n",
    "name = \"Amir\"\n",
    "c = greeting + name\n",
    "print(c)"
   ]
  },
  {
   "cell_type": "markdown",
   "metadata": {},
   "source": [
    "## String Slicing\n",
    "1. A string in Python can be sliced for getting a part of the string\n",
    "2. we can check the index but can't add and change in string\n",
    "3. The index in a string starts from 0 to (length-1) in Python.\n",
    "In order to slice a string, we use the following syntax:"
   ]
  },
  {
   "cell_type": "markdown",
   "metadata": {},
   "source": [
    "#### Positive Indices"
   ]
  },
  {
   "cell_type": "code",
   "execution_count": 18,
   "metadata": {},
   "outputs": [
    {
     "name": "stdout",
     "output_type": "stream",
     "text": [
      "m\n"
     ]
    }
   ],
   "source": [
    "a = \"Amir\"                 # [0 = A, 1 = m, 2 = i, 3 = r]\n",
    "print(a[1])                "
   ]
  },
  {
   "cell_type": "code",
   "execution_count": 27,
   "metadata": {},
   "outputs": [
    {
     "name": "stdout",
     "output_type": "stream",
     "text": [
      "Amir\n"
     ]
    }
   ],
   "source": [
    "a = \"Amir\"\n",
    "print(a[0 :])             # print 0 indexd to till the end"
   ]
  },
  {
   "cell_type": "code",
   "execution_count": 28,
   "metadata": {},
   "outputs": [
    {
     "name": "stdout",
     "output_type": "stream",
     "text": [
      "Amir\n"
     ]
    }
   ],
   "source": [
    "a = \"Amir\"\n",
    "print(a[ : 5])            # print start to 4 index and 5 is excluded"
   ]
  },
  {
   "cell_type": "code",
   "execution_count": null,
   "metadata": {},
   "outputs": [],
   "source": [
    "a = \"Amir\"\n",
    "print(a[0 : 5])          # print 0 to 4 and 5 is excluded"
   ]
  },
  {
   "cell_type": "code",
   "execution_count": 29,
   "metadata": {},
   "outputs": [
    {
     "name": "stdout",
     "output_type": "stream",
     "text": [
      "mi\n"
     ]
    }
   ],
   "source": [
    "a = \"Amir\"\n",
    "print(a[1 : 3])          # print 1 to 2 index and 3 is excluded"
   ]
  },
  {
   "cell_type": "markdown",
   "metadata": {},
   "source": [
    "#### Negative Indices"
   ]
  },
  {
   "cell_type": "code",
   "execution_count": 33,
   "metadata": {},
   "outputs": [
    {
     "name": "stdout",
     "output_type": "stream",
     "text": [
      "m\n"
     ]
    }
   ],
   "source": [
    "a = \"Amir\"           # [-4 = A, -3 = m, -2 = i, -1 = r ]\n",
    "print(a[-3])"
   ]
  },
  {
   "cell_type": "code",
   "execution_count": 34,
   "metadata": {},
   "outputs": [
    {
     "name": "stdout",
     "output_type": "stream",
     "text": [
      "Amir\n"
     ]
    }
   ],
   "source": [
    "a = \"Amir\"\n",
    "print(a[-4: ])     # print -4 index to till the end of lenght"
   ]
  },
  {
   "cell_type": "code",
   "execution_count": 42,
   "metadata": {},
   "outputs": [
    {
     "name": "stdout",
     "output_type": "stream",
     "text": [
      "Am\n"
     ]
    }
   ],
   "source": [
    "a = \"Amir\"\n",
    "print(a[ : -2])    # print start to -3 index and -2 is excluded"
   ]
  },
  {
   "cell_type": "code",
   "execution_count": 43,
   "metadata": {},
   "outputs": [
    {
     "name": "stdout",
     "output_type": "stream",
     "text": [
      "mi\n"
     ]
    }
   ],
   "source": [
    "a = \"Amir\"\n",
    "print(a[-3:-1])   # print -3 to -2 index and -1 is excluded"
   ]
  },
  {
   "cell_type": "markdown",
   "metadata": {},
   "source": [
    "#### Slicing with skip value\n",
    "We can provide a skip value as a part of our slice like this:"
   ]
  },
  {
   "cell_type": "code",
   "execution_count": 44,
   "metadata": {},
   "outputs": [
    {
     "name": "stdout",
     "output_type": "stream",
     "text": [
      "AmirAliCheema\n"
     ]
    }
   ],
   "source": [
    "a = \"AmirAliCheema\"         # [start: End: Skip]\n",
    "print(a[0: 14: 1])          # in 0 to 13 print every first char of string"
   ]
  },
  {
   "cell_type": "code",
   "execution_count": 45,
   "metadata": {},
   "outputs": [
    {
     "name": "stdout",
     "output_type": "stream",
     "text": [
      "AiAihea\n"
     ]
    }
   ],
   "source": [
    "a = \"AmirAliCheema\"         # [start: End: Skip]\n",
    "print(a[0: 14: 2])          # in 0 to 13 print every second char of string"
   ]
  },
  {
   "cell_type": "code",
   "execution_count": 48,
   "metadata": {},
   "outputs": [
    {
     "name": "stdout",
     "output_type": "stream",
     "text": [
      "Ariea\n"
     ]
    }
   ],
   "source": [
    "a = \"AmirAliCheema\"         # [start: End: Skip]\n",
    "print(a[0: 14: 3])          # in 0 to 13 print every third char of string"
   ]
  },
  {
   "cell_type": "markdown",
   "metadata": {},
   "source": [
    "## String Functions\n",
    "Some of the mostly used functions to perform operations on or manipulate strings are:"
   ]
  },
  {
   "cell_type": "markdown",
   "metadata": {},
   "source": [
    "#### len()\n",
    "It returns the length of the string <br>\n",
    "Note: Space is also count"
   ]
  },
  {
   "cell_type": "code",
   "execution_count": 51,
   "metadata": {},
   "outputs": [
    {
     "data": {
      "text/plain": [
       "7"
      ]
     },
     "execution_count": 51,
     "metadata": {},
     "output_type": "execute_result"
    }
   ],
   "source": [
    "a = \"AmirAli\"     \n",
    "len(a)"
   ]
  },
  {
   "cell_type": "code",
   "execution_count": 52,
   "metadata": {},
   "outputs": [
    {
     "data": {
      "text/plain": [
       "15"
      ]
     },
     "execution_count": 52,
     "metadata": {},
     "output_type": "execute_result"
    }
   ],
   "source": [
    "a = \"Amir Ali Cheema\"\n",
    "len(a)"
   ]
  },
  {
   "cell_type": "markdown",
   "metadata": {},
   "source": [
    "#### endswith()\n",
    "This function tells whether the variable string ends with the string or not."
   ]
  },
  {
   "cell_type": "code",
   "execution_count": 54,
   "metadata": {},
   "outputs": [
    {
     "data": {
      "text/plain": [
       "True"
      ]
     },
     "execution_count": 54,
     "metadata": {},
     "output_type": "execute_result"
    }
   ],
   "source": [
    "a = \"Wavy AI Research Foundation\"\n",
    "a.endswith(\"n\")                                  # end with 'n' so true"
   ]
  },
  {
   "cell_type": "code",
   "execution_count": 55,
   "metadata": {},
   "outputs": [
    {
     "data": {
      "text/plain": [
       "True"
      ]
     },
     "execution_count": 55,
     "metadata": {},
     "output_type": "execute_result"
    }
   ],
   "source": [
    "a = \"Wavy AI Research Foundation\"\n",
    "a.endswith(\"Foundation\")                        # end with 'Foundation' so true"
   ]
  },
  {
   "cell_type": "code",
   "execution_count": 56,
   "metadata": {},
   "outputs": [
    {
     "data": {
      "text/plain": [
       "False"
      ]
     },
     "execution_count": 56,
     "metadata": {},
     "output_type": "execute_result"
    }
   ],
   "source": [
    "a = \"Wavy AI Research Foundation\"               # ends not with 's' so false\n",
    "a.endswith(\"s\")"
   ]
  },
  {
   "cell_type": "markdown",
   "metadata": {},
   "source": [
    "#### count()\n",
    "It counts the total number of occurrences of any character or strings."
   ]
  },
  {
   "cell_type": "code",
   "execution_count": 71,
   "metadata": {},
   "outputs": [
    {
     "name": "stdout",
     "output_type": "stream",
     "text": [
      "2\n"
     ]
    }
   ],
   "source": [
    "a = \"Wavy AI Research Foundation\"\n",
    "print(a.count(\"e\"))"
   ]
  },
  {
   "cell_type": "code",
   "execution_count": 60,
   "metadata": {},
   "outputs": [
    {
     "name": "stdout",
     "output_type": "stream",
     "text": [
      "1\n"
     ]
    }
   ],
   "source": [
    "a = \"Wavy AI Research Foundation\"\n",
    "print(a.count(\"AI\"))"
   ]
  },
  {
   "cell_type": "code",
   "execution_count": 80,
   "metadata": {},
   "outputs": [
    {
     "name": "stdout",
     "output_type": "stream",
     "text": [
      "0\n"
     ]
    }
   ],
   "source": [
    "a = \"Wavy AI Research Foundation\"\n",
    "print(a.count(\"z\"))"
   ]
  },
  {
   "cell_type": "markdown",
   "metadata": {},
   "source": [
    "#### capitalize():\n",
    "This function capitalizes the first character of a given string"
   ]
  },
  {
   "cell_type": "code",
   "execution_count": 61,
   "metadata": {},
   "outputs": [
    {
     "name": "stdout",
     "output_type": "stream",
     "text": [
      "Hi, how are you?\n"
     ]
    }
   ],
   "source": [
    "a = \"hi, how are you?\"\n",
    "print(a.capitalize())"
   ]
  },
  {
   "cell_type": "code",
   "execution_count": 62,
   "metadata": {},
   "outputs": [
    {
     "name": "stdout",
     "output_type": "stream",
     "text": [
      "Wavy ai research foundation\n"
     ]
    }
   ],
   "source": [
    "a = \"wavy aI research foundation\"\n",
    "print(a.capitalize())"
   ]
  },
  {
   "cell_type": "markdown",
   "metadata": {},
   "source": [
    "#### find():\n",
    "This function finds a word and returns the index of first occurrence of that word in the string."
   ]
  },
  {
   "cell_type": "code",
   "execution_count": 63,
   "metadata": {},
   "outputs": [
    {
     "name": "stdout",
     "output_type": "stream",
     "text": [
      "9\n"
     ]
    }
   ],
   "source": [
    "a = \"Wavy AI Research Foundation\"\n",
    "print(a.find('e'))                   # e is on nine index"
   ]
  },
  {
   "cell_type": "code",
   "execution_count": 64,
   "metadata": {},
   "outputs": [
    {
     "name": "stdout",
     "output_type": "stream",
     "text": [
      "-1\n"
     ]
    }
   ],
   "source": [
    "a = \"Wavy AI Research Foundation\"\n",
    "print(a.find('z'))                   # -1 so it's mean z is not find in the given string"
   ]
  },
  {
   "cell_type": "code",
   "execution_count": 65,
   "metadata": {},
   "outputs": [
    {
     "name": "stdout",
     "output_type": "stream",
     "text": [
      "5\n"
     ]
    }
   ],
   "source": [
    "a = \"Wavy AI Research Foundation\"\n",
    "print(a.find('AI'))                   # -1 so it's mean z is not find in the given string"
   ]
  },
  {
   "cell_type": "code",
   "execution_count": 67,
   "metadata": {},
   "outputs": [
    {
     "name": "stdout",
     "output_type": "stream",
     "text": [
      "5\n"
     ]
    }
   ],
   "source": [
    "a = \"Wavy AI Research Foundation AI\"\n",
    "print(a.find('AI'))                   # first occurrence of that word in the string"
   ]
  },
  {
   "cell_type": "markdown",
   "metadata": {},
   "source": [
    "#### replace(): \n",
    "This function replaces the old word with the new word in the entire string."
   ]
  },
  {
   "cell_type": "code",
   "execution_count": 68,
   "metadata": {},
   "outputs": [
    {
     "data": {
      "text/plain": [
       "'Wavy AI Rrsrarch Foundation'"
      ]
     },
     "execution_count": 68,
     "metadata": {},
     "output_type": "execute_result"
    }
   ],
   "source": [
    "a = \"Wavy AI Research Foundation\"\n",
    "print(a.replace('e', 'r'))                   # replace(oldworld, newworld)"
   ]
  },
  {
   "cell_type": "code",
   "execution_count": 69,
   "metadata": {},
   "outputs": [
    {
     "name": "stdout",
     "output_type": "stream",
     "text": [
      "Wavy Artificial Intelligence Research Foundation\n"
     ]
    }
   ],
   "source": [
    "a = \"Wavy AI Research Foundation\"\n",
    "print(a.replace('AI', 'Artificial Intelligence'))   "
   ]
  },
  {
   "cell_type": "markdown",
   "metadata": {},
   "source": [
    "## Escape Sequence Characters"
   ]
  },
  {
   "cell_type": "markdown",
   "metadata": {},
   "source": [
    "Sequence of characters after backslash ‘\\’ [Escape Sequence Characters] <br>\n",
    "\n",
    "Escape Sequence Characters comprises of more than one character but represents one character when used within the string. <br>\n",
    "\n",
    "Examples: \\n (new line), \\t (tab), \\\\\\ (backslash), etc."
   ]
  },
  {
   "cell_type": "markdown",
   "metadata": {},
   "source": [
    "#### \\n (new line)"
   ]
  },
  {
   "cell_type": "code",
   "execution_count": 75,
   "metadata": {},
   "outputs": [
    {
     "name": "stdout",
     "output_type": "stream",
     "text": [
      "Hi, How are you? \n",
      "What's going on?\n"
     ]
    }
   ],
   "source": [
    "a = \"Hi, How are you? \\nWhat's going on?\"    # \\n new line\n",
    "print(a)"
   ]
  },
  {
   "cell_type": "markdown",
   "metadata": {},
   "source": [
    "#### \\t (tab)"
   ]
  },
  {
   "cell_type": "code",
   "execution_count": 76,
   "metadata": {},
   "outputs": [
    {
     "name": "stdout",
     "output_type": "stream",
     "text": [
      "Hi, How are\tyou\n"
     ]
    }
   ],
   "source": [
    "a = \"Hi, How are\\tyou\"     # \\t tab\n",
    "print(a)"
   ]
  },
  {
   "cell_type": "markdown",
   "metadata": {},
   "source": [
    "#### \\\\\\ (backslash)"
   ]
  },
  {
   "cell_type": "code",
   "execution_count": 79,
   "metadata": {},
   "outputs": [
    {
     "name": "stdout",
     "output_type": "stream",
     "text": [
      " what\\\n"
     ]
    }
   ],
   "source": [
    "a = \" what\\\\\"     # two(\\\\) create one (\\)\n",
    "print(a)"
   ]
  }
 ],
 "metadata": {
  "kernelspec": {
   "display_name": "Python 3",
   "language": "python",
   "name": "python3"
  },
  "language_info": {
   "codemirror_mode": {
    "name": "ipython",
    "version": 3
   },
   "file_extension": ".py",
   "mimetype": "text/x-python",
   "name": "python",
   "nbconvert_exporter": "python",
   "pygments_lexer": "ipython3",
   "version": "3.6.1"
  }
 },
 "nbformat": 4,
 "nbformat_minor": 2
}
