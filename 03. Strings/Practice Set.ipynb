{
 "cells": [
  {
   "cell_type": "markdown",
   "metadata": {},
   "source": [
    "# Practice Set"
   ]
  },
  {
   "cell_type": "markdown",
   "metadata": {},
   "source": [
    "### 1. Write a Python program to display a user-entered name followed by Good Afternoon using input() function."
   ]
  },
  {
   "cell_type": "code",
   "execution_count": 1,
   "metadata": {},
   "outputs": [
    {
     "name": "stdout",
     "output_type": "stream",
     "text": [
      "Enter you name : Amir\n",
      "Good Afternoon, Amir\n"
     ]
    }
   ],
   "source": [
    "name = input(\"Enter you name : \")\n",
    "greeting = \"Good Afternoon, \"\n",
    "c = greeting + name\n",
    "print(c)"
   ]
  },
  {
   "cell_type": "code",
   "execution_count": 6,
   "metadata": {},
   "outputs": [
    {
     "name": "stdout",
     "output_type": "stream",
     "text": [
      "Enter you name :\n",
      "Amir\n",
      "Good Afternoon, Amir\n"
     ]
    }
   ],
   "source": [
    "# or\n",
    "name = input(\"Enter you name :\\n\")\n",
    "print(\"Good Afternoon, \" + name)"
   ]
  },
  {
   "cell_type": "markdown",
   "metadata": {},
   "source": [
    "### 2. Write a program to fill in a letter template given below with name and date"
   ]
  },
  {
   "cell_type": "code",
   "execution_count": 22,
   "metadata": {},
   "outputs": [
    {
     "name": "stdout",
     "output_type": "stream",
     "text": [
      "Enter your name:\n",
      "Amir\n",
      "Enter your date:\n",
      "27 April 2020\n",
      " Dear Amir,\n",
      "\n",
      "Greeting from ABC Company,\n",
      "\n",
      "Congrats! You are selected.\n",
      "Have A Great Day!\n",
      "\n",
      "Thanks and Regards,\n",
      "Albert Mario\n",
      "\n",
      "Date : 27 April 2020\n"
     ]
    }
   ],
   "source": [
    "letter = ''' Dear <|NAME|>,\n",
    "\n",
    "Greeting from ABC Company,\n",
    "\n",
    "Congrats! You are selected.\n",
    "Have A Great Day!\n",
    "\n",
    "Thanks and Regards,\n",
    "Albert Mario\n",
    "\n",
    "Date : <|DATE|>'''\n",
    "\n",
    "\n",
    "name = input(\"Enter your name:\\n\")\n",
    "date = input(\"Enter your date:\\n\")\n",
    "\n",
    "letter = letter.replace('<|NAME|>', name)\n",
    "letter = letter.replace('<|DATE|>', date)\n",
    "\n",
    "print(letter)"
   ]
  },
  {
   "cell_type": "markdown",
   "metadata": {},
   "source": [
    "### 3. Write a program to detect double spaces in a string."
   ]
  },
  {
   "cell_type": "code",
   "execution_count": 24,
   "metadata": {},
   "outputs": [
    {
     "name": "stdout",
     "output_type": "stream",
     "text": [
      "19\n"
     ]
    }
   ],
   "source": [
    "a = \"Hey there is double  space in string\"\n",
    "DoubleSpace = a.find('  ')\n",
    "print(DoubleSpace)"
   ]
  },
  {
   "cell_type": "code",
   "execution_count": 26,
   "metadata": {},
   "outputs": [
    {
     "data": {
      "text/plain": [
       "'  '"
      ]
     },
     "execution_count": 26,
     "metadata": {},
     "output_type": "execute_result"
    }
   ],
   "source": [
    "a = \"Amir  Ali\"\n",
    "a[4:6]"
   ]
  },
  {
   "cell_type": "markdown",
   "metadata": {},
   "source": [
    "### 4. Replace the double spaces from problem 3 with single spaces."
   ]
  },
  {
   "cell_type": "code",
   "execution_count": 30,
   "metadata": {},
   "outputs": [
    {
     "name": "stdout",
     "output_type": "stream",
     "text": [
      "Hey there is double space in string\n"
     ]
    }
   ],
   "source": [
    "a = \"Hey there is double  space in string\"\n",
    "a = a.replace(\"  \", \" \")\n",
    "print(a)"
   ]
  },
  {
   "cell_type": "markdown",
   "metadata": {},
   "source": [
    "### 5. Write a program to format the following letter using escape sequence characters."
   ]
  },
  {
   "cell_type": "code",
   "execution_count": 34,
   "metadata": {},
   "outputs": [
    {
     "name": "stdout",
     "output_type": "stream",
     "text": [
      "Dear Harry, This Python course in nice. Thanks!!\n",
      "Dear Harry, \n",
      "\tThis Python course in nice.\n",
      "Thanks!!\n"
     ]
    }
   ],
   "source": [
    "letter = \"Dear Harry, This Python course in nice. Thanks!!\"\n",
    "print(letter)\n",
    "\n",
    "format_letter = \"Dear Harry, \\n\\tThis Python course in nice.\\nThanks!!\"\n",
    "print(format_letter)"
   ]
  }
 ],
 "metadata": {
  "kernelspec": {
   "display_name": "Python 3",
   "language": "python",
   "name": "python3"
  },
  "language_info": {
   "codemirror_mode": {
    "name": "ipython",
    "version": 3
   },
   "file_extension": ".py",
   "mimetype": "text/x-python",
   "name": "python",
   "nbconvert_exporter": "python",
   "pygments_lexer": "ipython3",
   "version": "3.6.1"
  }
 },
 "nbformat": 4,
 "nbformat_minor": 2
}
