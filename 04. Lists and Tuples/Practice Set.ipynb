{
 "cells": [
  {
   "cell_type": "markdown",
   "metadata": {},
   "source": [
    "# Practice Set"
   ]
  },
  {
   "cell_type": "markdown",
   "metadata": {},
   "source": [
    "### 1. Write a program to store seven fruits in a list entered by the user."
   ]
  },
  {
   "cell_type": "code",
   "execution_count": 6,
   "metadata": {},
   "outputs": [
    {
     "name": "stdout",
     "output_type": "stream",
     "text": [
      "Enter the 1st Fruit name:\n",
      "Apple\n",
      "Enter the 2nd Fruit name:\n",
      "Banana\n",
      "Enter the 3rd Fruit name:\n",
      "Orange\n",
      "Enter the 4th Fruit name:\n",
      "Cherry\n",
      "Enter the 5th Fruit name:\n",
      "Mango\n",
      "Enter the 6th Fruit name:\n",
      "Lemon\n",
      "Enter the 7th Fruit name:\n",
      "Grapes\n",
      "fruits ['Apple', 'Banana', 'Orange', 'Cherry', 'Mango', 'Lemon', 'Grapes']\n"
     ]
    }
   ],
   "source": [
    "# simple way\n",
    "f1 = input(\"Enter the 1st Fruit name:\\n\")\n",
    "f2 = input(\"Enter the 2nd Fruit name:\\n\")               \n",
    "f3 = input(\"Enter the 3rd Fruit name:\\n\")\n",
    "f4 = input(\"Enter the 4th Fruit name:\\n\")\n",
    "f5 = input(\"Enter the 5th Fruit name:\\n\")\n",
    "f6 = input(\"Enter the 6th Fruit name:\\n\")\n",
    "f7 = input(\"Enter the 7th Fruit name:\\n\")\n",
    "fruits = [f1, f2, f3, f4, f5, f6, f7]\n",
    "print(\"fruits\", fruits)"
   ]
  },
  {
   "cell_type": "code",
   "execution_count": 3,
   "metadata": {},
   "outputs": [
    {
     "name": "stdout",
     "output_type": "stream",
     "text": [
      "Enter the 1st Fruit name:\n",
      "Apple\n",
      "Enter the 2nd Fruit name:\n",
      "Banana\n",
      "Enter the 3rd Fruit name:\n",
      "Orange\n",
      "Enter the 4th Fruit name:\n",
      "Grapes\n",
      "Enter the 5th Fruit name:\n",
      "Cherry\n",
      "Enter the 6th Fruit name:\n",
      "Lemon\n",
      "Enter the 7th Fruit name:\n",
      "Mango\n",
      "fruits= ['Apple', 'Banana', 'Orange', 'Grapes', 'Cherry', 'Lemon', 'Mango']\n"
     ]
    }
   ],
   "source": [
    "# using insert method\n",
    "fruits = []\n",
    "f1  = input(\"Enter the 1st Fruit name:\\n\")\n",
    "f2 = input(\"Enter the 2nd Fruit name:\\n\")               \n",
    "f3 = input(\"Enter the 3rd Fruit name:\\n\")\n",
    "f4 = input(\"Enter the 4th Fruit name:\\n\")\n",
    "f5 = input(\"Enter the 5th Fruit name:\\n\")\n",
    "f6 = input(\"Enter the 6th Fruit name:\\n\")\n",
    "f7 = input(\"Enter the 7th Fruit name:\\n\")\n",
    "fruits.insert(0, f1)\n",
    "fruits.insert(1, f2)\n",
    "fruits.insert(2, f3)\n",
    "fruits.insert(3, f4)\n",
    "fruits.insert(4, f5)\n",
    "fruits.insert(5, f6)\n",
    "fruits.insert(6, f7)\n",
    "print(\"fruits=\", fruits)"
   ]
  },
  {
   "cell_type": "markdown",
   "metadata": {},
   "source": [
    "#### or"
   ]
  },
  {
   "cell_type": "code",
   "execution_count": 5,
   "metadata": {},
   "outputs": [
    {
     "name": "stdout",
     "output_type": "stream",
     "text": [
      "Enter the 1st Fruit name:\n",
      "Apple\n",
      "Enter the 2nd Fruit name:\n",
      "orange\n",
      "Enter the 3rd Fruit name:\n",
      "Banana\n",
      "Enter the 4th Fruit name:\n",
      "Mango\n",
      "Enter the 5th Fruit name:\n",
      "Lemon\n",
      "Enter the 6th Fruit name:\n",
      "Grapes\n",
      "Enter the 7th Fruit name:\n",
      "Cherry\n",
      "fruits= ['Apple', 'orange', 'Banana', 'Mango', 'Lemon', 'Grapes', 'Cherry']\n"
     ]
    }
   ],
   "source": [
    "# by using append method\n",
    "fruits = []\n",
    "f1  = input(\"Enter the 1st Fruit name:\\n\")\n",
    "f2 = input(\"Enter the 2nd Fruit name:\\n\")               \n",
    "f3 = input(\"Enter the 3rd Fruit name:\\n\")\n",
    "f4 = input(\"Enter the 4th Fruit name:\\n\")\n",
    "f5 = input(\"Enter the 5th Fruit name:\\n\")\n",
    "f6 = input(\"Enter the 6th Fruit name:\\n\")\n",
    "f7 = input(\"Enter the 7th Fruit name:\\n\")\n",
    "fruits.append(f1)\n",
    "fruits.append(f2)\n",
    "fruits.append(f3)\n",
    "fruits.append(f4)\n",
    "fruits.append(f5)\n",
    "fruits.append(f6)\n",
    "fruits.append(f7)\n",
    "print(\"fruits=\", fruits)"
   ]
  },
  {
   "cell_type": "markdown",
   "metadata": {},
   "source": [
    "### 2. Write a program to accept marks of 6 students and display them in a sorted manner."
   ]
  },
  {
   "cell_type": "code",
   "execution_count": 14,
   "metadata": {},
   "outputs": [
    {
     "name": "stdout",
     "output_type": "stream",
     "text": [
      "Enter the mark of 1st student : 67\n",
      "Enter the mark of 2nd student : 34\n",
      "Enter the mark of 3rd student : 54\n",
      "Enter the mark of 4th student : 88\n",
      "Enter the mark of 5th student : 45\n",
      "Enter the mark of 6th student : 90\n",
      "Sorted Marks of student =  [34, 45, 54, 67, 88, 90]\n"
     ]
    }
   ],
   "source": [
    "s1 = int(input(\"Enter the mark of 1st student : \"))\n",
    "s2 = int(input(\"Enter the mark of 2nd student : \"))\n",
    "s3 = int(input(\"Enter the mark of 3rd student : \"))\n",
    "s4 = int(input(\"Enter the mark of 4th student : \"))\n",
    "s5 = int(input(\"Enter the mark of 5th student : \"))\n",
    "s6 = int(input(\"Enter the mark of 6th student : \"))\n",
    "\n",
    "Student_Marks = [ s1, s2, s3, s4, s5, s6 ]\n",
    "\n",
    "Student_Marks.sort()\n",
    "\n",
    "print(\"Sorted Marks of student = \", Student_Marks)"
   ]
  },
  {
   "cell_type": "markdown",
   "metadata": {},
   "source": [
    "### 3. Check that a tuple cannot be changed in Python."
   ]
  },
  {
   "cell_type": "code",
   "execution_count": 15,
   "metadata": {},
   "outputs": [
    {
     "ename": "TypeError",
     "evalue": "'tuple' object does not support item assignment",
     "output_type": "error",
     "traceback": [
      "\u001b[1;31m---------------------------------------------------------------------------\u001b[0m",
      "\u001b[1;31mTypeError\u001b[0m                                 Traceback (most recent call last)",
      "\u001b[1;32m<ipython-input-15-690bc95065b4>\u001b[0m in \u001b[0;36m<module>\u001b[1;34m()\u001b[0m\n\u001b[0;32m      1\u001b[0m \u001b[0ma\u001b[0m \u001b[1;33m=\u001b[0m \u001b[1;33m(\u001b[0m\u001b[1;36m2\u001b[0m\u001b[1;33m,\u001b[0m \u001b[1;36m43\u001b[0m \u001b[1;33m,\u001b[0m\u001b[1;36m5\u001b[0m \u001b[1;33m,\u001b[0m\u001b[1;36m7\u001b[0m \u001b[1;33m,\u001b[0m \u001b[1;36m8\u001b[0m\u001b[1;33m)\u001b[0m\u001b[1;33m\u001b[0m\u001b[0m\n\u001b[1;32m----> 2\u001b[1;33m \u001b[0ma\u001b[0m\u001b[1;33m[\u001b[0m\u001b[1;36m2\u001b[0m\u001b[1;33m]\u001b[0m \u001b[1;33m=\u001b[0m \u001b[1;33m[\u001b[0m\u001b[1;36m23\u001b[0m\u001b[1;33m]\u001b[0m\u001b[1;33m\u001b[0m\u001b[0m\n\u001b[0m",
      "\u001b[1;31mTypeError\u001b[0m: 'tuple' object does not support item assignment"
     ]
    }
   ],
   "source": [
    "a = (2, 43 ,5 ,7 , 8)\n",
    "a[2] = [23]                  # index 2 replace 23 but we can't change in tuple it's produce error"
   ]
  },
  {
   "cell_type": "markdown",
   "metadata": {},
   "source": [
    "### 4. Write a program to sum a list with 4 numbers."
   ]
  },
  {
   "cell_type": "code",
   "execution_count": 17,
   "metadata": {},
   "outputs": [
    {
     "data": {
      "text/plain": [
       "20"
      ]
     },
     "execution_count": 17,
     "metadata": {},
     "output_type": "execute_result"
    }
   ],
   "source": [
    "num = [2, 3 ,7 ,8]\n",
    "sum(num)"
   ]
  },
  {
   "cell_type": "markdown",
   "metadata": {},
   "source": [
    "or"
   ]
  },
  {
   "cell_type": "code",
   "execution_count": 19,
   "metadata": {},
   "outputs": [
    {
     "name": "stdout",
     "output_type": "stream",
     "text": [
      "20\n"
     ]
    }
   ],
   "source": [
    "num = [2, 3 ,7 ,8]\n",
    "sum_ = num[0] + num[1] + num[2] + num[3]\n",
    "print(sum_)"
   ]
  },
  {
   "cell_type": "markdown",
   "metadata": {},
   "source": [
    "### 3. Write a program to count the number of zeros in the following tuple:"
   ]
  },
  {
   "cell_type": "code",
   "execution_count": 21,
   "metadata": {},
   "outputs": [
    {
     "data": {
      "text/plain": [
       "3"
      ]
     },
     "execution_count": 21,
     "metadata": {},
     "output_type": "execute_result"
    }
   ],
   "source": [
    "a = (7, 0, 8, 0, 0, 9)\n",
    "a.count(0)"
   ]
  }
 ],
 "metadata": {
  "kernelspec": {
   "display_name": "Python 3",
   "language": "python",
   "name": "python3"
  },
  "language_info": {
   "codemirror_mode": {
    "name": "ipython",
    "version": 3
   },
   "file_extension": ".py",
   "mimetype": "text/x-python",
   "name": "python",
   "nbconvert_exporter": "python",
   "pygments_lexer": "ipython3",
   "version": "3.6.1"
  }
 },
 "nbformat": 4,
 "nbformat_minor": 2
}
