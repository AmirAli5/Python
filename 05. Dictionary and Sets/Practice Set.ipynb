{
 "cells": [
  {
   "cell_type": "markdown",
   "metadata": {},
   "source": [
    "# Practice Set"
   ]
  },
  {
   "cell_type": "markdown",
   "metadata": {},
   "source": [
    "### 1. Write a program to create a dictionary of Urdu words with values as their English translation. Provide the user with an option to look it up!"
   ]
  },
  {
   "cell_type": "code",
   "execution_count": 1,
   "metadata": {},
   "outputs": [
    {
     "name": "stdout",
     "output_type": "stream",
     "text": [
      "the option are : dict_keys(['pyar', 'badal', 'nafrat'])\n",
      "Enter the urdu word : pyar\n",
      "The meaning of your words is: love\n"
     ]
    }
   ],
   "source": [
    "urdu_dict = {\n",
    "    \"pyar\" : \"love\",\n",
    "    \"badal\" : \"cloud\",\n",
    "    \"nafrat\" : \"hate\"\n",
    "}\n",
    "\n",
    "print(\"the option are :\", urdu_dict.keys())\n",
    "\n",
    "user = input(\"Enter the urdu word : \"  )\n",
    "\n",
    "print(\"The meaning of your words is:\", urdu_dict.get(user))"
   ]
  },
  {
   "cell_type": "markdown",
   "metadata": {},
   "source": [
    "### 2. Write a program to input eight numbers from the user and display all the unique numbers (once)."
   ]
  },
  {
   "cell_type": "code",
   "execution_count": 4,
   "metadata": {},
   "outputs": [
    {
     "name": "stdout",
     "output_type": "stream",
     "text": [
      "Enter the 1st number : 2\n",
      "Enter the 2nd number : 3\n",
      "Enter the 3rd number : 4\n",
      "Enter the 4th number : 5\n",
      "Enter the 5th number : 5\n",
      "Enter the 6th number : 5\n",
      "Enter the 7th number : 5\n",
      "Enter the 8th number : 5\n",
      "Eight Unique Number Are : {2, 3, 4, 5}\n"
     ]
    }
   ],
   "source": [
    "u1 = int(input(\"Enter the 1st number : \"))\n",
    "u2 = int(input(\"Enter the 2nd number : \"))\n",
    "u3 = int(input(\"Enter the 3rd number : \"))\n",
    "u4 = int(input(\"Enter the 4th number : \"))\n",
    "u5 = int(input(\"Enter the 5th number : \"))\n",
    "u6 = int(input(\"Enter the 6th number : \"))\n",
    "u7 = int(input(\"Enter the 7th number : \"))\n",
    "u8 = int(input(\"Enter the 8th number : \"))\n",
    "\n",
    "unique_numbers = {u1, u2, u3, u4, u5, u6, u7, u8}\n",
    "\n",
    "print(\"Eight Unique Number Are :\", unique_numbers)"
   ]
  },
  {
   "cell_type": "markdown",
   "metadata": {},
   "source": [
    "### 3. Can we have a set with 18(int) and “18”(str) as a value in it?"
   ]
  },
  {
   "cell_type": "code",
   "execution_count": 6,
   "metadata": {},
   "outputs": [
    {
     "name": "stdout",
     "output_type": "stream",
     "text": [
      "{'18', 18}\n"
     ]
    }
   ],
   "source": [
    "# yes it is set it not duplicate becuuse 18 is int and \"18\" count as string therefore both print\n",
    "set1 = set((18, \"18\"))\n",
    "print(set1)"
   ]
  },
  {
   "cell_type": "markdown",
   "metadata": {},
   "source": [
    "### 4. What will be the length of the following set S:"
   ]
  },
  {
   "cell_type": "code",
   "execution_count": 12,
   "metadata": {},
   "outputs": [
    {
     "name": "stdout",
     "output_type": "stream",
     "text": [
      "{20, '20'}\n",
      "2\n"
     ]
    }
   ],
   "source": [
    "S = set()\n",
    "\n",
    "S.add(20)\n",
    "\n",
    "S.add(20.0)  \n",
    "\n",
    "S.add(\"20\")\n",
    "\n",
    "# 20.0 = 20 so set are unique there\n",
    "print(S)\n",
    "\n",
    "# check the lenghh\n",
    "print(len(S))"
   ]
  },
  {
   "cell_type": "markdown",
   "metadata": {},
   "source": [
    "### 5. S = {}, what is the type of S?"
   ]
  },
  {
   "cell_type": "code",
   "execution_count": 14,
   "metadata": {},
   "outputs": [
    {
     "name": "stdout",
     "output_type": "stream",
     "text": [
      "<class 'dict'>\n"
     ]
    }
   ],
   "source": [
    "s = {}\n",
    "print(type(s))"
   ]
  },
  {
   "cell_type": "markdown",
   "metadata": {},
   "source": [
    "### 6. Create an empty dictionary. Allow 4 friends to enter their favorite language as values and use keys as their names. Assume that the names are unique."
   ]
  },
  {
   "cell_type": "code",
   "execution_count": 22,
   "metadata": {},
   "outputs": [
    {
     "name": "stdout",
     "output_type": "stream",
     "text": [
      "Max Enter your Favourite Language : python\n",
      "Matuez Enter the Favourtie Language : julia\n",
      "Karolina Enter the Favourtie Language : c++\n",
      "Ewa Enter the Favourtie Language : java\n",
      "{'Max': 'python', 'Matuez': 'julia', 'Karolina': 'c++', 'Ewa': 'java'}\n"
     ]
    }
   ],
   "source": [
    "f1 = input(\"Max Enter your Favourite Language : \")\n",
    "f2 = input(\"Matuez Enter the Favourtie Language : \")\n",
    "f3 = input(\"Karolina Enter the Favourtie Language : \")\n",
    "f4 = input(\"Ewa Enter the Favourtie Language : \")\n",
    "\n",
    "s = {}\n",
    "s[\"Max\"] = f1\n",
    "s[\"Matuez\"] = f2\n",
    "s[\"Karolina\"] = f3\n",
    "s[\"Ewa\"] = f4\n",
    "\n",
    "print(s)"
   ]
  },
  {
   "cell_type": "markdown",
   "metadata": {},
   "source": [
    "### 7. If names of 2 friends are same; what will happen to the program in Program 6?"
   ]
  },
  {
   "cell_type": "code",
   "execution_count": 23,
   "metadata": {},
   "outputs": [
    {
     "name": "stdout",
     "output_type": "stream",
     "text": [
      "Max Enter your Favourite Language : python\n",
      "Max Enter the Favourtie Language : java\n",
      "Karolina Enter the Favourtie Language : c++\n",
      "Ewa Enter the Favourtie Language : julia\n",
      "{'Max': 'java', 'Karolina': 'c++', 'Ewa': 'julia'}\n"
     ]
    }
   ],
   "source": [
    "# keys are unique so it will overide\n",
    "f1 = input(\"Max Enter your Favourite Language : \")\n",
    "f2 = input(\"Max Enter the Favourtie Language : \")\n",
    "f3 = input(\"Karolina Enter the Favourtie Language : \")\n",
    "f4 = input(\"Ewa Enter the Favourtie Language : \")\n",
    "\n",
    "s = {}\n",
    "s[\"Max\"] = f1\n",
    "s[\"Max\"] = f2\n",
    "s[\"Karolina\"] = f3\n",
    "s[\"Ewa\"] = f4\n",
    "\n",
    "print(s)"
   ]
  },
  {
   "cell_type": "markdown",
   "metadata": {},
   "source": [
    "### 8. If languages of two friends are same; what will happen to the program in Program 6?"
   ]
  },
  {
   "cell_type": "code",
   "execution_count": 24,
   "metadata": {},
   "outputs": [
    {
     "name": "stdout",
     "output_type": "stream",
     "text": [
      "Max Enter your Favourite Language : python\n",
      "Matuez Enter the Favourtie Language : python\n",
      "Karolina Enter the Favourtie Language : c++\n",
      "Ewa Enter the Favourtie Language : java\n",
      "{'Max': 'python', 'Matuez': 'python', 'Karolina': 'c++', 'Ewa': 'java'}\n"
     ]
    }
   ],
   "source": [
    "# value can be same so it print all\n",
    "f1 = input(\"Max Enter your Favourite Language : \")\n",
    "f2 = input(\"Matuez Enter the Favourtie Language : \")\n",
    "f3 = input(\"Karolina Enter the Favourtie Language : \")\n",
    "f4 = input(\"Ewa Enter the Favourtie Language : \")\n",
    "\n",
    "s = {}\n",
    "s[\"Max\"] = f1\n",
    "s[\"Matuez\"] = f2\n",
    "s[\"Karolina\"] = f3\n",
    "s[\"Ewa\"] = f4\n",
    "\n",
    "print(s)"
   ]
  },
  {
   "cell_type": "markdown",
   "metadata": {},
   "source": [
    "### 9. Can you change the values inside a list which is contained in set S\n",
    "Set are unchange so there is no way to change items in sets"
   ]
  },
  {
   "cell_type": "code",
   "execution_count": 28,
   "metadata": {},
   "outputs": [],
   "source": [
    "# S = {8, 7, 12, \"amir\", [1, 2]} \n",
    "# unhashable type: 'list'"
   ]
  }
 ],
 "metadata": {
  "kernelspec": {
   "display_name": "Python 3",
   "language": "python",
   "name": "python3"
  },
  "language_info": {
   "codemirror_mode": {
    "name": "ipython",
    "version": 3
   },
   "file_extension": ".py",
   "mimetype": "text/x-python",
   "name": "python",
   "nbconvert_exporter": "python",
   "pygments_lexer": "ipython3",
   "version": "3.6.1"
  }
 },
 "nbformat": 4,
 "nbformat_minor": 2
}
