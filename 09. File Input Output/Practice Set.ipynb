{
 "cells": [
  {
   "cell_type": "markdown",
   "metadata": {},
   "source": [
    "# Practice Set"
   ]
  },
  {
   "cell_type": "markdown",
   "metadata": {},
   "source": [
    "### 1. Write a program to read the text from a given file “poems.txt” and find out whether it contains the word ‘twinkle’."
   ]
  },
  {
   "cell_type": "code",
   "execution_count": 5,
   "metadata": {},
   "outputs": [
    {
     "name": "stdout",
     "output_type": "stream",
     "text": [
      "Twinkle is Present\n"
     ]
    }
   ],
   "source": [
    "f = open(\"poem.txt\", \"r\")\n",
    "\n",
    "text = f.read()\n",
    "\n",
    "if \"Twinkle\" in text:\n",
    "    print(\"Twinkle is Present\")\n",
    "else:\n",
    "    print(\"Twinkle is not Present\")\n",
    "    \n",
    "f.close()"
   ]
  },
  {
   "cell_type": "markdown",
   "metadata": {},
   "source": [
    "### 2. The game() function in a program lets a user play a game and returns the score as an integer. You need to read a file “Hiscore.txt” which is either blank or contains the previous Hi-score. You need to write a program to update the Hi-score whenever game() breaks the Hi-Score."
   ]
  },
  {
   "cell_type": "code",
   "execution_count": 12,
   "metadata": {},
   "outputs": [],
   "source": [
    "def game():\n",
    "    return 98\n",
    "\n",
    "score = game()\n",
    "\n",
    "with open(\"hiscore.txt\", \"r\") as f:\n",
    "    hiscore = f.read()\n",
    "\n",
    "if hiscore == \" \":\n",
    "     with open(\"hiscore.txt\", \"w\") as f:\n",
    "        f.write(str(score))\n",
    "        \n",
    "if int(hiscore) < score:\n",
    "    with open(\"hiscore.txt\", \"w\") as f:\n",
    "        f.write(str(score))"
   ]
  },
  {
   "cell_type": "markdown",
   "metadata": {},
   "source": [
    "### 3. Write a program to generate multiplication tables from 2 to 20 and write it to the different files. Place these files in a folder for a 13- year old boy."
   ]
  },
  {
   "cell_type": "code",
   "execution_count": 23,
   "metadata": {},
   "outputs": [],
   "source": [
    "for i in range(2, 21):\n",
    "    with open(f\"tables/Multiplication Table of {i}.txt\", \"w\") as f:\n",
    "        for j in range(1, 11):\n",
    "            f.write(f\"{i} x {j} = {i*j}\\n\")"
   ]
  },
  {
   "cell_type": "markdown",
   "metadata": {},
   "source": [
    "### 4. A file contains the word “Donkey” multiple times. You need to write a program which replaces this word with ###### by updating the same file."
   ]
  },
  {
   "cell_type": "code",
   "execution_count": 24,
   "metadata": {},
   "outputs": [],
   "source": [
    "with open(\"Hey.txt\", \"r\") as f:\n",
    "    content = f.read()\n",
    "    \n",
    "content = content.replace(\"donkey\", \"#####\")\n",
    "\n",
    "with open(\"Hey.txt\", \"w\") as f:\n",
    "    content = f.write(content)    "
   ]
  },
  {
   "cell_type": "markdown",
   "metadata": {},
   "source": [
    "### 5. Repeat program 4 for a list of such words to be censored."
   ]
  },
  {
   "cell_type": "code",
   "execution_count": 29,
   "metadata": {},
   "outputs": [],
   "source": [
    "words = [\"Donkey\", \"Kamina\", \"gadda\"]\n",
    "\n",
    "with open(\"Hey.txt\", \"r\") as f:\n",
    "    content = f.read()\n",
    "    \n",
    "for word in words:\n",
    "    content = content.replace(word, \"######\")\n",
    "    with open(\"Hey.txt\", \"w\") as f:\n",
    "        f.write(content) "
   ]
  },
  {
   "cell_type": "markdown",
   "metadata": {},
   "source": [
    "### 6. Write a program to mine a log file and find out whether it contains ‘python’. "
   ]
  },
  {
   "cell_type": "code",
   "execution_count": 1,
   "metadata": {},
   "outputs": [
    {
     "name": "stdout",
     "output_type": "stream",
     "text": [
      "yes python is present\n"
     ]
    }
   ],
   "source": [
    "with open(\"log.txt\", \"r\") as f:\n",
    "    content = f.read()\n",
    "    \n",
    "if \"python\" in content.lower():\n",
    "    print(\"yes python is present\")\n",
    "    \n",
    "else:\n",
    "    print(\"No python is not present\")"
   ]
  },
  {
   "cell_type": "markdown",
   "metadata": {},
   "source": [
    "### 7. Write a program to find out the line number where python is present from question 6."
   ]
  },
  {
   "cell_type": "code",
   "execution_count": 2,
   "metadata": {},
   "outputs": [
    {
     "name": "stdout",
     "output_type": "stream",
     "text": [
      "yes python is present\n",
      "53\n"
     ]
    }
   ],
   "source": [
    "content = True\n",
    "\n",
    "i = 1\n",
    "\n",
    "with open(\"log.txt\") as f:\n",
    "    \n",
    "    while content:\n",
    "        content = f.readline()\n",
    "        \n",
    "        if \"python\" in content.lower():\n",
    "            print(\"yes python is present\")\n",
    "            print(i)\n",
    "            \n",
    "        i = i + 1 "
   ]
  },
  {
   "cell_type": "markdown",
   "metadata": {},
   "source": [
    "### 8. Write a program to make a copy of a text file “Sample.txt”."
   ]
  },
  {
   "cell_type": "code",
   "execution_count": 3,
   "metadata": {},
   "outputs": [],
   "source": [
    "with open(\"Sample.txt\", \"r\") as f:\n",
    "    content = f.read()\n",
    "    \n",
    "with open(\"copy.txt\", 'w') as f:\n",
    "    f.write(content)"
   ]
  },
  {
   "cell_type": "markdown",
   "metadata": {},
   "source": [
    "### 9. Write a program to find out whether a file is identical and matches the content of another file."
   ]
  },
  {
   "cell_type": "code",
   "execution_count": 4,
   "metadata": {},
   "outputs": [
    {
     "name": "stdout",
     "output_type": "stream",
     "text": [
      "File are Identical\n"
     ]
    }
   ],
   "source": [
    "with open(\"Sample.txt\", \"r\") as f:\n",
    "    f1 = f.read()\n",
    "    \n",
    "with open(\"copy.txt\", 'r') as f:\n",
    "    f2 = f.read()\n",
    "    \n",
    "if f1 == f2:\n",
    "    print(\"File are Identical\")\n",
    "else:\n",
    "    print('File are not identical')"
   ]
  },
  {
   "cell_type": "markdown",
   "metadata": {},
   "source": [
    "### 10. Write a program to wipe out the contents of a file using python."
   ]
  },
  {
   "cell_type": "code",
   "execution_count": 5,
   "metadata": {},
   "outputs": [],
   "source": [
    "with open(\"Copy.txt\", \"w\") as f:\n",
    "    f.write(\"\")"
   ]
  }
 ],
 "metadata": {
  "kernelspec": {
   "display_name": "Python 3",
   "language": "python",
   "name": "python3"
  },
  "language_info": {
   "codemirror_mode": {
    "name": "ipython",
    "version": 3
   },
   "file_extension": ".py",
   "mimetype": "text/x-python",
   "name": "python",
   "nbconvert_exporter": "python",
   "pygments_lexer": "ipython3",
   "version": "3.6.1"
  }
 },
 "nbformat": 4,
 "nbformat_minor": 2
}
