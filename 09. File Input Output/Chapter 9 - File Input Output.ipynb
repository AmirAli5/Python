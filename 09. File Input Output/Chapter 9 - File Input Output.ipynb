{
 "cells": [
  {
   "cell_type": "markdown",
   "metadata": {},
   "source": [
    "# Chapter 9 : File Input/Output"
   ]
  },
  {
   "cell_type": "markdown",
   "metadata": {},
   "source": [
    "The random access memory is volatile and all its contents are lost once a program terminates. <br>\n",
    "In order to persist the data forever, we use files. <br>\n",
    "A file is data stored in a storage device. A python program can talk to the file by reading content from it and writing content to it."
   ]
  },
  {
   "cell_type": "markdown",
   "metadata": {},
   "source": [
    "### Types of Files\n",
    "There are 2 types of files:\n",
    "1. Text files (.txt, .c, etc)\n",
    "2. Binary files (.jpg, .dat, etc) \n",
    "\n",
    "Python has a lot of functions for reading, updating, and deleting files."
   ]
  },
  {
   "cell_type": "markdown",
   "metadata": {},
   "source": [
    "### Opening a file\n",
    "Python has an open() function for opening files. It takes 2 parameters: filename and mode."
   ]
  },
  {
   "cell_type": "code",
   "execution_count": 3,
   "metadata": {},
   "outputs": [
    {
     "data": {
      "text/plain": [
       "<_io.TextIOWrapper name='Sample.txt' mode='r' encoding='cp1252'>"
      ]
     },
     "execution_count": 3,
     "metadata": {},
     "output_type": "execute_result"
    }
   ],
   "source": [
    "open(\"Sample.txt\", \"r\")"
   ]
  },
  {
   "cell_type": "markdown",
   "metadata": {},
   "source": [
    "Here, “this” is the file name and “r” is the mode of opening (read mode)"
   ]
  },
  {
   "cell_type": "markdown",
   "metadata": {},
   "source": [
    "## Reading a file"
   ]
  },
  {
   "cell_type": "code",
   "execution_count": 4,
   "metadata": {},
   "outputs": [
    {
     "name": "stdout",
     "output_type": "stream",
     "text": [
      "Wavy AI Research Foundation\n"
     ]
    }
   ],
   "source": [
    "f = open(\"Sample.txt\", \"r\")       # opening the file\n",
    "text = f.read()                   # read the file\n",
    "print(text)                       # print \n",
    "f.close()                         # close the file"
   ]
  },
  {
   "cell_type": "markdown",
   "metadata": {},
   "source": [
    "We can read specify number of char in our file by defining the lenght"
   ]
  },
  {
   "cell_type": "code",
   "execution_count": 5,
   "metadata": {},
   "outputs": [
    {
     "name": "stdout",
     "output_type": "stream",
     "text": [
      "Wavy\n"
     ]
    }
   ],
   "source": [
    "f = open(\"Sample.txt\")    # by default it's also \"r\"\n",
    "text = f.read(4)          # read first four Char\n",
    "print(text)\n",
    "f.close()"
   ]
  },
  {
   "cell_type": "markdown",
   "metadata": {},
   "source": [
    "### Read Line Method\n",
    "It will read onle one line"
   ]
  },
  {
   "cell_type": "code",
   "execution_count": 26,
   "metadata": {},
   "outputs": [
    {
     "name": "stdout",
     "output_type": "stream",
     "text": [
      "Wavy AI Research Foundation\n",
      "\n",
      "by Amir Ali\n",
      "\n",
      "(c) 2019\n"
     ]
    }
   ],
   "source": [
    "f = open(\"Sample.txt\", \"r\")       \n",
    "text = f.read()                   \n",
    "print(text)                       \n",
    "f.close()  "
   ]
  },
  {
   "cell_type": "markdown",
   "metadata": {},
   "source": [
    "#### readline()"
   ]
  },
  {
   "cell_type": "code",
   "execution_count": 27,
   "metadata": {},
   "outputs": [
    {
     "name": "stdout",
     "output_type": "stream",
     "text": [
      "Wavy AI Research Foundation\n",
      "\n"
     ]
    }
   ],
   "source": [
    "f = open(\"Sample.txt\", \"r\")\n",
    "text = f.readline()\n",
    "print(text)\n",
    "f.close()"
   ]
  },
  {
   "cell_type": "markdown",
   "metadata": {},
   "source": [
    "### Modes of opening a file\n",
    "\n",
    "<b>r</b> – open for reading\n",
    "\n",
    "<b>w</b> – open for writing\n",
    "\n",
    "<b>a</b> – open for appending\n",
    "\n",
    "<b>+</b> – open for updating\n",
    "\n",
    "<b>rb</b> – open for read in binary mode\n",
    "\n",
    "<b>rt</b> – open for read in text mode"
   ]
  },
  {
   "cell_type": "markdown",
   "metadata": {},
   "source": [
    "## Write a File"
   ]
  },
  {
   "cell_type": "markdown",
   "metadata": {},
   "source": [
    "In order to write to a file, we first open it in write or append mode after which, we use the python’s f.write() method to write to the file!"
   ]
  },
  {
   "cell_type": "code",
   "execution_count": 2,
   "metadata": {},
   "outputs": [],
   "source": [
    "f = open(\"another.txt\", \"w\")\n",
    "text = f.write(\"Wavy AI Research Foundation\")\n",
    "f.close()"
   ]
  },
  {
   "cell_type": "code",
   "execution_count": 4,
   "metadata": {},
   "outputs": [],
   "source": [
    "f = open(\"another.txt\", \"w\")\n",
    "text = f.write(\"Wavy AI Research Foundation\")       # can be multiple line\n",
    "text = f.write(\" Amir Ali \")\n",
    "text = f.write(\" 2019 \")\n",
    "f.close()"
   ]
  },
  {
   "cell_type": "markdown",
   "metadata": {},
   "source": [
    "### With statement"
   ]
  },
  {
   "cell_type": "markdown",
   "metadata": {},
   "source": [
    "The best way to open and close the file automatically is the “with” statement.\n",
    "* either read\n",
    "* either write"
   ]
  },
  {
   "cell_type": "code",
   "execution_count": 7,
   "metadata": {},
   "outputs": [
    {
     "name": "stdout",
     "output_type": "stream",
     "text": [
      "<_io.TextIOWrapper name='another.txt' mode='r' encoding='cp1252'>\n"
     ]
    }
   ],
   "source": [
    "with open(\"another.txt\", \"r\") as f:\n",
    "    f.read()\n",
    "print(f)\n",
    "\n",
    "#There is no need to write f.close() as it is done automatically"
   ]
  },
  {
   "cell_type": "code",
   "execution_count": 9,
   "metadata": {},
   "outputs": [
    {
     "name": "stdout",
     "output_type": "stream",
     "text": [
      "<_io.TextIOWrapper name='Greeting.txt' mode='w' encoding='cp1252'>\n"
     ]
    }
   ],
   "source": [
    "with open(\"Greeting.txt\", \"w\") as f:\n",
    "    f.write(\"Good Morning\")\n",
    "print(f)\n",
    "\n",
    "#There is no need to write f.close() as it is done automatically"
   ]
  }
 ],
 "metadata": {
  "kernelspec": {
   "display_name": "Python 3",
   "language": "python",
   "name": "python3"
  },
  "language_info": {
   "codemirror_mode": {
    "name": "ipython",
    "version": 3
   },
   "file_extension": ".py",
   "mimetype": "text/x-python",
   "name": "python",
   "nbconvert_exporter": "python",
   "pygments_lexer": "ipython3",
   "version": "3.6.1"
  }
 },
 "nbformat": 4,
 "nbformat_minor": 2
}
